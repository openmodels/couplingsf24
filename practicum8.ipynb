{
 "cells": [
  {
   "cell_type": "markdown",
   "id": "be0545fa",
   "metadata": {},
   "source": [
    "We're going to do some statistical analysis of catch data from the US East Coast. You can grab the data from\n",
    "https://www.seaaroundus.org/data/#/eez/851\n",
    "or from the github repository."
   ]
  },
  {
   "cell_type": "code",
   "execution_count": 1,
   "id": "5f8a971a",
   "metadata": {},
   "outputs": [],
   "source": [
    "df = read.csv(\"SAU EEZ 851 v50-1.csv\")"
   ]
  },
  {
   "cell_type": "code",
   "execution_count": 2,
   "id": "a388721d",
   "metadata": {},
   "outputs": [
    {
     "data": {
      "text/html": [
       "<table class=\"dataframe\">\n",
       "<caption>A data.frame: 6 × 17</caption>\n",
       "<thead>\n",
       "\t<tr><th></th><th scope=col>area_name</th><th scope=col>area_type</th><th scope=col>data_layer</th><th scope=col>uncertainty_score</th><th scope=col>year</th><th scope=col>scientific_name</th><th scope=col>common_name</th><th scope=col>functional_group</th><th scope=col>commercial_group</th><th scope=col>fishing_entity</th><th scope=col>fishing_sector</th><th scope=col>catch_type</th><th scope=col>reporting_status</th><th scope=col>gear_type</th><th scope=col>end_use_type</th><th scope=col>tonnes</th><th scope=col>landed_value</th></tr>\n",
       "\t<tr><th></th><th scope=col>&lt;chr&gt;</th><th scope=col>&lt;chr&gt;</th><th scope=col>&lt;chr&gt;</th><th scope=col>&lt;int&gt;</th><th scope=col>&lt;int&gt;</th><th scope=col>&lt;chr&gt;</th><th scope=col>&lt;chr&gt;</th><th scope=col>&lt;chr&gt;</th><th scope=col>&lt;chr&gt;</th><th scope=col>&lt;chr&gt;</th><th scope=col>&lt;chr&gt;</th><th scope=col>&lt;chr&gt;</th><th scope=col>&lt;chr&gt;</th><th scope=col>&lt;chr&gt;</th><th scope=col>&lt;chr&gt;</th><th scope=col>&lt;dbl&gt;</th><th scope=col>&lt;dbl&gt;</th></tr>\n",
       "</thead>\n",
       "<tbody>\n",
       "\t<tr><th scope=row>375954</th><td>USA (East Coast)</td><td>eez</td><td>Assigned Tuna RFMO catch</td><td>NA</td><td>2019</td><td>Isurus oxyrinchus</td><td>Shortfin mako</td><td>Large sharks (&gt;=90 cm)</td><td>Sharks &amp; rays</td><td>USA</td><td>Industrial</td><td>Landings</td><td>Reported</td><td><span style=white-space:pre-wrap>longline     </span></td><td>Direct human consumption</td><td>9.030465285</td><td>26950.564269</td></tr>\n",
       "\t<tr><th scope=row>375955</th><td>USA (East Coast)</td><td>eez</td><td>Assigned Tuna RFMO catch</td><td>NA</td><td>2019</td><td>Isurus oxyrinchus</td><td>Shortfin mako</td><td>Large sharks (&gt;=90 cm)</td><td>Sharks &amp; rays</td><td>USA</td><td>Industrial</td><td>Landings</td><td>Reported</td><td><span style=white-space:pre-wrap>longline     </span></td><td><span style=white-space:pre-wrap>Fishmeal and fish oil   </span></td><td>0.004519752</td><td><span style=white-space:pre-wrap>    3.353645</span></td></tr>\n",
       "\t<tr><th scope=row>375956</th><td>USA (East Coast)</td><td>eez</td><td>Assigned Tuna RFMO catch</td><td>NA</td><td>2019</td><td>Isurus oxyrinchus</td><td>Shortfin mako</td><td>Large sharks (&gt;=90 cm)</td><td>Sharks &amp; rays</td><td>USA</td><td>Industrial</td><td>Landings</td><td>Reported</td><td><span style=white-space:pre-wrap>longline     </span></td><td><span style=white-space:pre-wrap>Other                   </span></td><td>0.004519752</td><td><span style=white-space:pre-wrap>    3.353645</span></td></tr>\n",
       "\t<tr><th scope=row>375957</th><td>USA (East Coast)</td><td>eez</td><td>Assigned Tuna RFMO catch</td><td>NA</td><td>2019</td><td>Isurus oxyrinchus</td><td>Shortfin mako</td><td>Large sharks (&gt;=90 cm)</td><td>Sharks &amp; rays</td><td>USA</td><td>Industrial</td><td>Landings</td><td>Reported</td><td><span style=white-space:pre-wrap>hand lines   </span></td><td>Direct human consumption</td><td>0.008373655</td><td><span style=white-space:pre-wrap>   24.990376</span></td></tr>\n",
       "\t<tr><th scope=row>375958</th><td>USA (East Coast)</td><td>eez</td><td>Assigned Tuna RFMO catch</td><td>NA</td><td>2019</td><td>Isurus oxyrinchus</td><td>Shortfin mako</td><td>Large sharks (&gt;=90 cm)</td><td>Sharks &amp; rays</td><td>USA</td><td>Industrial</td><td>Landings</td><td>Reported</td><td><span style=white-space:pre-wrap>gillnet      </span></td><td>Direct human consumption</td><td>0.041868274</td><td><span style=white-space:pre-wrap>  124.951880</span></td></tr>\n",
       "\t<tr><th scope=row>375959</th><td>USA (East Coast)</td><td>eez</td><td>Assigned Tuna RFMO catch</td><td>NA</td><td>2019</td><td><span style=white-space:pre-wrap>Prionace glauca  </span></td><td><span style=white-space:pre-wrap>Blue shark   </span></td><td>Large sharks (&gt;=90 cm)</td><td>Sharks &amp; rays</td><td>USA</td><td>Industrial</td><td>Landings</td><td>Reported</td><td>pole and line</td><td>Direct human consumption</td><td>4.822358957</td><td> 8283.822088</td></tr>\n",
       "</tbody>\n",
       "</table>\n"
      ],
      "text/latex": [
       "A data.frame: 6 × 17\n",
       "\\begin{tabular}{r|lllllllllllllllll}\n",
       "  & area\\_name & area\\_type & data\\_layer & uncertainty\\_score & year & scientific\\_name & common\\_name & functional\\_group & commercial\\_group & fishing\\_entity & fishing\\_sector & catch\\_type & reporting\\_status & gear\\_type & end\\_use\\_type & tonnes & landed\\_value\\\\\n",
       "  & <chr> & <chr> & <chr> & <int> & <int> & <chr> & <chr> & <chr> & <chr> & <chr> & <chr> & <chr> & <chr> & <chr> & <chr> & <dbl> & <dbl>\\\\\n",
       "\\hline\n",
       "\t375954 & USA (East Coast) & eez & Assigned Tuna RFMO catch & NA & 2019 & Isurus oxyrinchus & Shortfin mako & Large sharks (>=90 cm) & Sharks \\& rays & USA & Industrial & Landings & Reported & longline      & Direct human consumption & 9.030465285 & 26950.564269\\\\\n",
       "\t375955 & USA (East Coast) & eez & Assigned Tuna RFMO catch & NA & 2019 & Isurus oxyrinchus & Shortfin mako & Large sharks (>=90 cm) & Sharks \\& rays & USA & Industrial & Landings & Reported & longline      & Fishmeal and fish oil    & 0.004519752 &     3.353645\\\\\n",
       "\t375956 & USA (East Coast) & eez & Assigned Tuna RFMO catch & NA & 2019 & Isurus oxyrinchus & Shortfin mako & Large sharks (>=90 cm) & Sharks \\& rays & USA & Industrial & Landings & Reported & longline      & Other                    & 0.004519752 &     3.353645\\\\\n",
       "\t375957 & USA (East Coast) & eez & Assigned Tuna RFMO catch & NA & 2019 & Isurus oxyrinchus & Shortfin mako & Large sharks (>=90 cm) & Sharks \\& rays & USA & Industrial & Landings & Reported & hand lines    & Direct human consumption & 0.008373655 &    24.990376\\\\\n",
       "\t375958 & USA (East Coast) & eez & Assigned Tuna RFMO catch & NA & 2019 & Isurus oxyrinchus & Shortfin mako & Large sharks (>=90 cm) & Sharks \\& rays & USA & Industrial & Landings & Reported & gillnet       & Direct human consumption & 0.041868274 &   124.951880\\\\\n",
       "\t375959 & USA (East Coast) & eez & Assigned Tuna RFMO catch & NA & 2019 & Prionace glauca   & Blue shark    & Large sharks (>=90 cm) & Sharks \\& rays & USA & Industrial & Landings & Reported & pole and line & Direct human consumption & 4.822358957 &  8283.822088\\\\\n",
       "\\end{tabular}\n"
      ],
      "text/markdown": [
       "\n",
       "A data.frame: 6 × 17\n",
       "\n",
       "| <!--/--> | area_name &lt;chr&gt; | area_type &lt;chr&gt; | data_layer &lt;chr&gt; | uncertainty_score &lt;int&gt; | year &lt;int&gt; | scientific_name &lt;chr&gt; | common_name &lt;chr&gt; | functional_group &lt;chr&gt; | commercial_group &lt;chr&gt; | fishing_entity &lt;chr&gt; | fishing_sector &lt;chr&gt; | catch_type &lt;chr&gt; | reporting_status &lt;chr&gt; | gear_type &lt;chr&gt; | end_use_type &lt;chr&gt; | tonnes &lt;dbl&gt; | landed_value &lt;dbl&gt; |\n",
       "|---|---|---|---|---|---|---|---|---|---|---|---|---|---|---|---|---|---|\n",
       "| 375954 | USA (East Coast) | eez | Assigned Tuna RFMO catch | NA | 2019 | Isurus oxyrinchus | Shortfin mako | Large sharks (&gt;=90 cm) | Sharks &amp; rays | USA | Industrial | Landings | Reported | longline      | Direct human consumption | 9.030465285 | 26950.564269 |\n",
       "| 375955 | USA (East Coast) | eez | Assigned Tuna RFMO catch | NA | 2019 | Isurus oxyrinchus | Shortfin mako | Large sharks (&gt;=90 cm) | Sharks &amp; rays | USA | Industrial | Landings | Reported | longline      | Fishmeal and fish oil    | 0.004519752 |     3.353645 |\n",
       "| 375956 | USA (East Coast) | eez | Assigned Tuna RFMO catch | NA | 2019 | Isurus oxyrinchus | Shortfin mako | Large sharks (&gt;=90 cm) | Sharks &amp; rays | USA | Industrial | Landings | Reported | longline      | Other                    | 0.004519752 |     3.353645 |\n",
       "| 375957 | USA (East Coast) | eez | Assigned Tuna RFMO catch | NA | 2019 | Isurus oxyrinchus | Shortfin mako | Large sharks (&gt;=90 cm) | Sharks &amp; rays | USA | Industrial | Landings | Reported | hand lines    | Direct human consumption | 0.008373655 |    24.990376 |\n",
       "| 375958 | USA (East Coast) | eez | Assigned Tuna RFMO catch | NA | 2019 | Isurus oxyrinchus | Shortfin mako | Large sharks (&gt;=90 cm) | Sharks &amp; rays | USA | Industrial | Landings | Reported | gillnet       | Direct human consumption | 0.041868274 |   124.951880 |\n",
       "| 375959 | USA (East Coast) | eez | Assigned Tuna RFMO catch | NA | 2019 | Prionace glauca   | Blue shark    | Large sharks (&gt;=90 cm) | Sharks &amp; rays | USA | Industrial | Landings | Reported | pole and line | Direct human consumption | 4.822358957 |  8283.822088 |\n",
       "\n"
      ],
      "text/plain": [
       "       area_name        area_type data_layer               uncertainty_score\n",
       "375954 USA (East Coast) eez       Assigned Tuna RFMO catch NA               \n",
       "375955 USA (East Coast) eez       Assigned Tuna RFMO catch NA               \n",
       "375956 USA (East Coast) eez       Assigned Tuna RFMO catch NA               \n",
       "375957 USA (East Coast) eez       Assigned Tuna RFMO catch NA               \n",
       "375958 USA (East Coast) eez       Assigned Tuna RFMO catch NA               \n",
       "375959 USA (East Coast) eez       Assigned Tuna RFMO catch NA               \n",
       "       year scientific_name   common_name   functional_group      \n",
       "375954 2019 Isurus oxyrinchus Shortfin mako Large sharks (>=90 cm)\n",
       "375955 2019 Isurus oxyrinchus Shortfin mako Large sharks (>=90 cm)\n",
       "375956 2019 Isurus oxyrinchus Shortfin mako Large sharks (>=90 cm)\n",
       "375957 2019 Isurus oxyrinchus Shortfin mako Large sharks (>=90 cm)\n",
       "375958 2019 Isurus oxyrinchus Shortfin mako Large sharks (>=90 cm)\n",
       "375959 2019 Prionace glauca   Blue shark    Large sharks (>=90 cm)\n",
       "       commercial_group fishing_entity fishing_sector catch_type\n",
       "375954 Sharks & rays    USA            Industrial     Landings  \n",
       "375955 Sharks & rays    USA            Industrial     Landings  \n",
       "375956 Sharks & rays    USA            Industrial     Landings  \n",
       "375957 Sharks & rays    USA            Industrial     Landings  \n",
       "375958 Sharks & rays    USA            Industrial     Landings  \n",
       "375959 Sharks & rays    USA            Industrial     Landings  \n",
       "       reporting_status gear_type     end_use_type             tonnes     \n",
       "375954 Reported         longline      Direct human consumption 9.030465285\n",
       "375955 Reported         longline      Fishmeal and fish oil    0.004519752\n",
       "375956 Reported         longline      Other                    0.004519752\n",
       "375957 Reported         hand lines    Direct human consumption 0.008373655\n",
       "375958 Reported         gillnet       Direct human consumption 0.041868274\n",
       "375959 Reported         pole and line Direct human consumption 4.822358957\n",
       "       landed_value\n",
       "375954 26950.564269\n",
       "375955     3.353645\n",
       "375956     3.353645\n",
       "375957    24.990376\n",
       "375958   124.951880\n",
       "375959  8283.822088"
      ]
     },
     "metadata": {},
     "output_type": "display_data"
    }
   ],
   "source": [
    "tail(df)"
   ]
  },
  {
   "cell_type": "code",
   "execution_count": 3,
   "id": "4d877794",
   "metadata": {},
   "outputs": [
    {
     "name": "stderr",
     "output_type": "stream",
     "text": [
      "Warning message:\n",
      "“package ‘dplyr’ was built under R version 4.1.2”\n",
      "\n",
      "Attaching package: ‘dplyr’\n",
      "\n",
      "\n",
      "The following objects are masked from ‘package:stats’:\n",
      "\n",
      "    filter, lag\n",
      "\n",
      "\n",
      "The following objects are masked from ‘package:base’:\n",
      "\n",
      "    intersect, setdiff, setequal, union\n",
      "\n",
      "\n",
      "\u001b[1m\u001b[22m`summarise()` has grouped output by 'year'. You can override using the\n",
      "`.groups` argument.\n"
     ]
    }
   ],
   "source": [
    "library(dplyr)\n",
    "df2 = df %>% group_by(year, gear_type) %>% summarize(tonnes=sum(tonnes), landed_value=sum(landed_value, na.rm=T))\n",
    "write.csv(df2, \"SAU EEZ 851 v50-1-gearyear.csv\", row.names=F)"
   ]
  },
  {
   "cell_type": "code",
   "execution_count": 4,
   "id": "1101aa06",
   "metadata": {},
   "outputs": [],
   "source": [
    "df = read.csv(\"SAU EEZ 851 v50-1-gearyear.csv\")"
   ]
  },
  {
   "cell_type": "code",
   "execution_count": 5,
   "id": "d71a9160",
   "metadata": {},
   "outputs": [
    {
     "data": {
      "text/html": [
       "<table class=\"dataframe\">\n",
       "<caption>A data.frame: 6 × 4</caption>\n",
       "<thead>\n",
       "\t<tr><th></th><th scope=col>year</th><th scope=col>gear_type</th><th scope=col>tonnes</th><th scope=col>landed_value</th></tr>\n",
       "\t<tr><th></th><th scope=col>&lt;int&gt;</th><th scope=col>&lt;chr&gt;</th><th scope=col>&lt;dbl&gt;</th><th scope=col>&lt;dbl&gt;</th></tr>\n",
       "</thead>\n",
       "<tbody>\n",
       "\t<tr><th scope=row>1</th><td>1950</td><td>artisanal fishing gear</td><td>   448.92324</td><td>3.525815e+06</td></tr>\n",
       "\t<tr><th scope=row>2</th><td>1950</td><td>bagnets               </td><td>  1851.69635</td><td>2.011862e+06</td></tr>\n",
       "\t<tr><th scope=row>3</th><td>1950</td><td>bottom trawl          </td><td>416010.75582</td><td>5.389172e+08</td></tr>\n",
       "\t<tr><th scope=row>4</th><td>1950</td><td>cast nets             </td><td>    30.43376</td><td>7.854344e+04</td></tr>\n",
       "\t<tr><th scope=row>5</th><td>1950</td><td>dredge                </td><td>519405.49070</td><td>3.702003e+09</td></tr>\n",
       "\t<tr><th scope=row>6</th><td>1950</td><td>gillnet               </td><td> 19652.34152</td><td>4.281247e+07</td></tr>\n",
       "</tbody>\n",
       "</table>\n"
      ],
      "text/latex": [
       "A data.frame: 6 × 4\n",
       "\\begin{tabular}{r|llll}\n",
       "  & year & gear\\_type & tonnes & landed\\_value\\\\\n",
       "  & <int> & <chr> & <dbl> & <dbl>\\\\\n",
       "\\hline\n",
       "\t1 & 1950 & artisanal fishing gear &    448.92324 & 3.525815e+06\\\\\n",
       "\t2 & 1950 & bagnets                &   1851.69635 & 2.011862e+06\\\\\n",
       "\t3 & 1950 & bottom trawl           & 416010.75582 & 5.389172e+08\\\\\n",
       "\t4 & 1950 & cast nets              &     30.43376 & 7.854344e+04\\\\\n",
       "\t5 & 1950 & dredge                 & 519405.49070 & 3.702003e+09\\\\\n",
       "\t6 & 1950 & gillnet                &  19652.34152 & 4.281247e+07\\\\\n",
       "\\end{tabular}\n"
      ],
      "text/markdown": [
       "\n",
       "A data.frame: 6 × 4\n",
       "\n",
       "| <!--/--> | year &lt;int&gt; | gear_type &lt;chr&gt; | tonnes &lt;dbl&gt; | landed_value &lt;dbl&gt; |\n",
       "|---|---|---|---|---|\n",
       "| 1 | 1950 | artisanal fishing gear |    448.92324 | 3.525815e+06 |\n",
       "| 2 | 1950 | bagnets                |   1851.69635 | 2.011862e+06 |\n",
       "| 3 | 1950 | bottom trawl           | 416010.75582 | 5.389172e+08 |\n",
       "| 4 | 1950 | cast nets              |     30.43376 | 7.854344e+04 |\n",
       "| 5 | 1950 | dredge                 | 519405.49070 | 3.702003e+09 |\n",
       "| 6 | 1950 | gillnet                |  19652.34152 | 4.281247e+07 |\n",
       "\n"
      ],
      "text/plain": [
       "  year gear_type              tonnes       landed_value\n",
       "1 1950 artisanal fishing gear    448.92324 3.525815e+06\n",
       "2 1950 bagnets                  1851.69635 2.011862e+06\n",
       "3 1950 bottom trawl           416010.75582 5.389172e+08\n",
       "4 1950 cast nets                  30.43376 7.854344e+04\n",
       "5 1950 dredge                 519405.49070 3.702003e+09\n",
       "6 1950 gillnet                 19652.34152 4.281247e+07"
      ]
     },
     "metadata": {},
     "output_type": "display_data"
    }
   ],
   "source": [
    "head(df)"
   ]
  },
  {
   "cell_type": "code",
   "execution_count": 6,
   "id": "da36be7c",
   "metadata": {
    "scrolled": true
   },
   "outputs": [
    {
     "data": {
      "text/html": [
       "<style>\n",
       ".list-inline {list-style: none; margin:0; padding: 0}\n",
       ".list-inline>li {display: inline-block}\n",
       ".list-inline>li:not(:last-child)::after {content: \"\\00b7\"; padding: 0 .5ex}\n",
       "</style>\n",
       "<ol class=list-inline><li>'artisanal fishing gear'</li><li>'bagnets'</li><li>'bottom trawl'</li><li>'cast nets'</li><li>'dredge'</li><li>'gillnet'</li><li>'hand lines'</li><li>'hand or tools'</li><li>'harpoon'</li><li>'lines'</li><li>'longline'</li><li>'mixed gear'</li><li>'other industrial'</li><li>'other nets'</li><li>'pole and line'</li><li>'pots or traps'</li><li>'purse seine'</li><li>'shrimp trawl'</li><li>'small scale lines'</li><li>'small scale trammel net'</li><li>'trammel nets'</li><li>'unknown by source'</li><li>'unknown class'</li><li>'pelagic trawl'</li><li>'other'</li></ol>\n"
      ],
      "text/latex": [
       "\\begin{enumerate*}\n",
       "\\item 'artisanal fishing gear'\n",
       "\\item 'bagnets'\n",
       "\\item 'bottom trawl'\n",
       "\\item 'cast nets'\n",
       "\\item 'dredge'\n",
       "\\item 'gillnet'\n",
       "\\item 'hand lines'\n",
       "\\item 'hand or tools'\n",
       "\\item 'harpoon'\n",
       "\\item 'lines'\n",
       "\\item 'longline'\n",
       "\\item 'mixed gear'\n",
       "\\item 'other industrial'\n",
       "\\item 'other nets'\n",
       "\\item 'pole and line'\n",
       "\\item 'pots or traps'\n",
       "\\item 'purse seine'\n",
       "\\item 'shrimp trawl'\n",
       "\\item 'small scale lines'\n",
       "\\item 'small scale trammel net'\n",
       "\\item 'trammel nets'\n",
       "\\item 'unknown by source'\n",
       "\\item 'unknown class'\n",
       "\\item 'pelagic trawl'\n",
       "\\item 'other'\n",
       "\\end{enumerate*}\n"
      ],
      "text/markdown": [
       "1. 'artisanal fishing gear'\n",
       "2. 'bagnets'\n",
       "3. 'bottom trawl'\n",
       "4. 'cast nets'\n",
       "5. 'dredge'\n",
       "6. 'gillnet'\n",
       "7. 'hand lines'\n",
       "8. 'hand or tools'\n",
       "9. 'harpoon'\n",
       "10. 'lines'\n",
       "11. 'longline'\n",
       "12. 'mixed gear'\n",
       "13. 'other industrial'\n",
       "14. 'other nets'\n",
       "15. 'pole and line'\n",
       "16. 'pots or traps'\n",
       "17. 'purse seine'\n",
       "18. 'shrimp trawl'\n",
       "19. 'small scale lines'\n",
       "20. 'small scale trammel net'\n",
       "21. 'trammel nets'\n",
       "22. 'unknown by source'\n",
       "23. 'unknown class'\n",
       "24. 'pelagic trawl'\n",
       "25. 'other'\n",
       "\n",
       "\n"
      ],
      "text/plain": [
       " [1] \"artisanal fishing gear\"  \"bagnets\"                \n",
       " [3] \"bottom trawl\"            \"cast nets\"              \n",
       " [5] \"dredge\"                  \"gillnet\"                \n",
       " [7] \"hand lines\"              \"hand or tools\"          \n",
       " [9] \"harpoon\"                 \"lines\"                  \n",
       "[11] \"longline\"                \"mixed gear\"             \n",
       "[13] \"other industrial\"        \"other nets\"             \n",
       "[15] \"pole and line\"           \"pots or traps\"          \n",
       "[17] \"purse seine\"             \"shrimp trawl\"           \n",
       "[19] \"small scale lines\"       \"small scale trammel net\"\n",
       "[21] \"trammel nets\"            \"unknown by source\"      \n",
       "[23] \"unknown class\"           \"pelagic trawl\"          \n",
       "[25] \"other\"                  "
      ]
     },
     "metadata": {},
     "output_type": "display_data"
    }
   ],
   "source": [
    "unique(df$gear_type)"
   ]
  },
  {
   "cell_type": "code",
   "execution_count": 7,
   "id": "ff49d778",
   "metadata": {},
   "outputs": [
    {
     "data": {
      "text/html": [
       "25"
      ],
      "text/latex": [
       "25"
      ],
      "text/markdown": [
       "25"
      ],
      "text/plain": [
       "[1] 25"
      ]
     },
     "metadata": {},
     "output_type": "display_data"
    }
   ],
   "source": [
    "length(unique(df$gear_type))"
   ]
  },
  {
   "cell_type": "code",
   "execution_count": 8,
   "id": "172e4a96",
   "metadata": {},
   "outputs": [],
   "source": [
    "library(ggplot2)"
   ]
  },
  {
   "cell_type": "code",
   "execution_count": 9,
   "id": "04df3ea0",
   "metadata": {},
   "outputs": [
    {
     "data": {
      "image/png": "[encoded data removed]",
      "text/plain": [
       "plot without title"
      ]
     },
     "metadata": {
      "image/png": {
       "height": 420,
       "width": 420
      }
     },
     "output_type": "display_data"
    }
   ],
   "source": [
    "ggplot(df, aes(x=year, y=tonnes)) +\n",
    "  geom_col()"
   ]
  },
  {
   "cell_type": "code",
   "execution_count": 10,
   "id": "e3e3dfeb",
   "metadata": {},
   "outputs": [
    {
     "data": {
      "image/png": "[encoded data removed]",
      "text/plain": [
       "plot without title"
      ]
     },
     "metadata": {
      "image/png": {
       "height": 420,
       "width": 420
      }
     },
     "output_type": "display_data"
    }
   ],
   "source": [
    "ggplot(df, aes(x=year, y=tonnes, fill=gear_type)) +\n",
    "  geom_col()"
   ]
  },
  {
   "cell_type": "markdown",
   "id": "eddd14b5",
   "metadata": {},
   "source": [
    "Question 1: What is the tonnage caught with a particular gear in a given year?"
   ]
  },
  {
   "cell_type": "code",
   "execution_count": 11,
   "id": "60869b69",
   "metadata": {},
   "outputs": [
    {
     "data": {
      "text/html": [
       "<table class=\"dataframe\">\n",
       "<caption>A data.frame: 22 × 4</caption>\n",
       "<thead>\n",
       "\t<tr><th></th><th scope=col>year</th><th scope=col>gear_type</th><th scope=col>tonnes</th><th scope=col>landed_value</th></tr>\n",
       "\t<tr><th></th><th scope=col>&lt;int&gt;</th><th scope=col>&lt;chr&gt;</th><th scope=col>&lt;dbl&gt;</th><th scope=col>&lt;dbl&gt;</th></tr>\n",
       "</thead>\n",
       "<tbody>\n",
       "\t<tr><th scope=row>1132</th><td>2000</td><td>artisanal fishing gear</td><td>1.732641e+02</td><td>4.365858e+06</td></tr>\n",
       "\t<tr><th scope=row>1133</th><td>2000</td><td>bagnets               </td><td>4.563375e+02</td><td>2.156172e+06</td></tr>\n",
       "\t<tr><th scope=row>1134</th><td>2000</td><td>bottom trawl          </td><td>2.166118e+05</td><td>4.721887e+08</td></tr>\n",
       "\t<tr><th scope=row>1135</th><td>2000</td><td>cast nets             </td><td>1.368163e+03</td><td>2.722587e+06</td></tr>\n",
       "\t<tr><th scope=row>1136</th><td>2000</td><td>dredge                </td><td>6.244453e+05</td><td>3.171923e+09</td></tr>\n",
       "\t<tr><th scope=row>1137</th><td>2000</td><td>gillnet               </td><td>4.631605e+04</td><td>7.887170e+07</td></tr>\n",
       "\t<tr><th scope=row>1138</th><td>2000</td><td>hand lines            </td><td>8.635126e+03</td><td>4.784827e+07</td></tr>\n",
       "\t<tr><th scope=row>1139</th><td>2000</td><td>hand or tools         </td><td>5.451641e+04</td><td>2.695713e+08</td></tr>\n",
       "\t<tr><th scope=row>1140</th><td>2000</td><td>harpoon               </td><td>3.314865e+02</td><td>5.739549e+06</td></tr>\n",
       "\t<tr><th scope=row>1141</th><td>2000</td><td>lines                 </td><td>4.042884e+03</td><td>1.613170e+07</td></tr>\n",
       "\t<tr><th scope=row>1142</th><td>2000</td><td>longline              </td><td>6.730728e+03</td><td>1.788464e+07</td></tr>\n",
       "\t<tr><th scope=row>1143</th><td>2000</td><td>mixed gear            </td><td>2.469563e+03</td><td>4.926949e+05</td></tr>\n",
       "\t<tr><th scope=row>1144</th><td>2000</td><td>other                 </td><td>4.664365e+04</td><td>1.331865e+08</td></tr>\n",
       "\t<tr><th scope=row>1145</th><td>2000</td><td>other nets            </td><td>5.199055e+01</td><td>6.991630e+05</td></tr>\n",
       "\t<tr><th scope=row>1146</th><td>2000</td><td>pelagic trawl         </td><td>5.431830e+04</td><td>8.554123e+06</td></tr>\n",
       "\t<tr><th scope=row>1147</th><td>2000</td><td>pole and line         </td><td>1.201828e+04</td><td>6.238257e+07</td></tr>\n",
       "\t<tr><th scope=row>1148</th><td>2000</td><td>pots or traps         </td><td>1.275787e+05</td><td>7.341361e+08</td></tr>\n",
       "\t<tr><th scope=row>1149</th><td>2000</td><td>purse seine           </td><td>2.564267e+05</td><td>4.337804e+07</td></tr>\n",
       "\t<tr><th scope=row>1150</th><td>2000</td><td>shrimp trawl          </td><td>8.550969e+04</td><td>8.949404e+07</td></tr>\n",
       "\t<tr><th scope=row>1151</th><td>2000</td><td>small scale lines     </td><td>4.563136e+00</td><td>2.873993e+03</td></tr>\n",
       "\t<tr><th scope=row>1152</th><td>2000</td><td>unknown by source     </td><td>4.235771e+01</td><td>1.201915e+05</td></tr>\n",
       "\t<tr><th scope=row>1153</th><td>2000</td><td>unknown class         </td><td>1.651382e+05</td><td>5.389051e+08</td></tr>\n",
       "</tbody>\n",
       "</table>\n"
      ],
      "text/latex": [
       "A data.frame: 22 × 4\n",
       "\\begin{tabular}{r|llll}\n",
       "  & year & gear\\_type & tonnes & landed\\_value\\\\\n",
       "  & <int> & <chr> & <dbl> & <dbl>\\\\\n",
       "\\hline\n",
       "\t1132 & 2000 & artisanal fishing gear & 1.732641e+02 & 4.365858e+06\\\\\n",
       "\t1133 & 2000 & bagnets                & 4.563375e+02 & 2.156172e+06\\\\\n",
       "\t1134 & 2000 & bottom trawl           & 2.166118e+05 & 4.721887e+08\\\\\n",
       "\t1135 & 2000 & cast nets              & 1.368163e+03 & 2.722587e+06\\\\\n",
       "\t1136 & 2000 & dredge                 & 6.244453e+05 & 3.171923e+09\\\\\n",
       "\t1137 & 2000 & gillnet                & 4.631605e+04 & 7.887170e+07\\\\\n",
       "\t1138 & 2000 & hand lines             & 8.635126e+03 & 4.784827e+07\\\\\n",
       "\t1139 & 2000 & hand or tools          & 5.451641e+04 & 2.695713e+08\\\\\n",
       "\t1140 & 2000 & harpoon                & 3.314865e+02 & 5.739549e+06\\\\\n",
       "\t1141 & 2000 & lines                  & 4.042884e+03 & 1.613170e+07\\\\\n",
       "\t1142 & 2000 & longline               & 6.730728e+03 & 1.788464e+07\\\\\n",
       "\t1143 & 2000 & mixed gear             & 2.469563e+03 & 4.926949e+05\\\\\n",
       "\t1144 & 2000 & other                  & 4.664365e+04 & 1.331865e+08\\\\\n",
       "\t1145 & 2000 & other nets             & 5.199055e+01 & 6.991630e+05\\\\\n",
       "\t1146 & 2000 & pelagic trawl          & 5.431830e+04 & 8.554123e+06\\\\\n",
       "\t1147 & 2000 & pole and line          & 1.201828e+04 & 6.238257e+07\\\\\n",
       "\t1148 & 2000 & pots or traps          & 1.275787e+05 & 7.341361e+08\\\\\n",
       "\t1149 & 2000 & purse seine            & 2.564267e+05 & 4.337804e+07\\\\\n",
       "\t1150 & 2000 & shrimp trawl           & 8.550969e+04 & 8.949404e+07\\\\\n",
       "\t1151 & 2000 & small scale lines      & 4.563136e+00 & 2.873993e+03\\\\\n",
       "\t1152 & 2000 & unknown by source      & 4.235771e+01 & 1.201915e+05\\\\\n",
       "\t1153 & 2000 & unknown class          & 1.651382e+05 & 5.389051e+08\\\\\n",
       "\\end{tabular}\n"
      ],
      "text/markdown": [
       "\n",
       "A data.frame: 22 × 4\n",
       "\n",
       "| <!--/--> | year &lt;int&gt; | gear_type &lt;chr&gt; | tonnes &lt;dbl&gt; | landed_value &lt;dbl&gt; |\n",
       "|---|---|---|---|---|\n",
       "| 1132 | 2000 | artisanal fishing gear | 1.732641e+02 | 4.365858e+06 |\n",
       "| 1133 | 2000 | bagnets                | 4.563375e+02 | 2.156172e+06 |\n",
       "| 1134 | 2000 | bottom trawl           | 2.166118e+05 | 4.721887e+08 |\n",
       "| 1135 | 2000 | cast nets              | 1.368163e+03 | 2.722587e+06 |\n",
       "| 1136 | 2000 | dredge                 | 6.244453e+05 | 3.171923e+09 |\n",
       "| 1137 | 2000 | gillnet                | 4.631605e+04 | 7.887170e+07 |\n",
       "| 1138 | 2000 | hand lines             | 8.635126e+03 | 4.784827e+07 |\n",
       "| 1139 | 2000 | hand or tools          | 5.451641e+04 | 2.695713e+08 |\n",
       "| 1140 | 2000 | harpoon                | 3.314865e+02 | 5.739549e+06 |\n",
       "| 1141 | 2000 | lines                  | 4.042884e+03 | 1.613170e+07 |\n",
       "| 1142 | 2000 | longline               | 6.730728e+03 | 1.788464e+07 |\n",
       "| 1143 | 2000 | mixed gear             | 2.469563e+03 | 4.926949e+05 |\n",
       "| 1144 | 2000 | other                  | 4.664365e+04 | 1.331865e+08 |\n",
       "| 1145 | 2000 | other nets             | 5.199055e+01 | 6.991630e+05 |\n",
       "| 1146 | 2000 | pelagic trawl          | 5.431830e+04 | 8.554123e+06 |\n",
       "| 1147 | 2000 | pole and line          | 1.201828e+04 | 6.238257e+07 |\n",
       "| 1148 | 2000 | pots or traps          | 1.275787e+05 | 7.341361e+08 |\n",
       "| 1149 | 2000 | purse seine            | 2.564267e+05 | 4.337804e+07 |\n",
       "| 1150 | 2000 | shrimp trawl           | 8.550969e+04 | 8.949404e+07 |\n",
       "| 1151 | 2000 | small scale lines      | 4.563136e+00 | 2.873993e+03 |\n",
       "| 1152 | 2000 | unknown by source      | 4.235771e+01 | 1.201915e+05 |\n",
       "| 1153 | 2000 | unknown class          | 1.651382e+05 | 5.389051e+08 |\n",
       "\n"
      ],
      "text/plain": [
       "     year gear_type              tonnes       landed_value\n",
       "1132 2000 artisanal fishing gear 1.732641e+02 4.365858e+06\n",
       "1133 2000 bagnets                4.563375e+02 2.156172e+06\n",
       "1134 2000 bottom trawl           2.166118e+05 4.721887e+08\n",
       "1135 2000 cast nets              1.368163e+03 2.722587e+06\n",
       "1136 2000 dredge                 6.244453e+05 3.171923e+09\n",
       "1137 2000 gillnet                4.631605e+04 7.887170e+07\n",
       "1138 2000 hand lines             8.635126e+03 4.784827e+07\n",
       "1139 2000 hand or tools          5.451641e+04 2.695713e+08\n",
       "1140 2000 harpoon                3.314865e+02 5.739549e+06\n",
       "1141 2000 lines                  4.042884e+03 1.613170e+07\n",
       "1142 2000 longline               6.730728e+03 1.788464e+07\n",
       "1143 2000 mixed gear             2.469563e+03 4.926949e+05\n",
       "1144 2000 other                  4.664365e+04 1.331865e+08\n",
       "1145 2000 other nets             5.199055e+01 6.991630e+05\n",
       "1146 2000 pelagic trawl          5.431830e+04 8.554123e+06\n",
       "1147 2000 pole and line          1.201828e+04 6.238257e+07\n",
       "1148 2000 pots or traps          1.275787e+05 7.341361e+08\n",
       "1149 2000 purse seine            2.564267e+05 4.337804e+07\n",
       "1150 2000 shrimp trawl           8.550969e+04 8.949404e+07\n",
       "1151 2000 small scale lines      4.563136e+00 2.873993e+03\n",
       "1152 2000 unknown by source      4.235771e+01 1.201915e+05\n",
       "1153 2000 unknown class          1.651382e+05 5.389051e+08"
      ]
     },
     "metadata": {},
     "output_type": "display_data"
    }
   ],
   "source": [
    "df[df$year == 2000,]"
   ]
  },
  {
   "cell_type": "code",
   "execution_count": 12,
   "id": "68065019",
   "metadata": {},
   "outputs": [
    {
     "data": {
      "text/html": [
       "<style>\n",
       ".list-inline {list-style: none; margin:0; padding: 0}\n",
       ".list-inline>li {display: inline-block}\n",
       ".list-inline>li:not(:last-child)::after {content: \"\\00b7\"; padding: 0 .5ex}\n",
       "</style>\n",
       "<ol class=list-inline><li>173.2641164932</li><li>456.337499977</li><li>216611.78845964</li><li>1368.1628778049</li><li>624445.33656531</li><li>46316.0487127122</li><li>8635.1260345652</li><li>54516.4081889245</li><li>331.4865176537</li><li>4042.8843173767</li><li>6730.7277732245</li><li>2469.5628878271</li><li>46643.6544291658</li><li>51.9905539336</li><li>54318.2950731095</li><li>12018.2783521094</li><li>127578.685560971</li><li>256426.723981783</li><li>85509.6885488626</li><li>4.56313552</li><li>42.3577126053</li><li>165138.172104912</li></ol>\n"
      ],
      "text/latex": [
       "\\begin{enumerate*}\n",
       "\\item 173.2641164932\n",
       "\\item 456.337499977\n",
       "\\item 216611.78845964\n",
       "\\item 1368.1628778049\n",
       "\\item 624445.33656531\n",
       "\\item 46316.0487127122\n",
       "\\item 8635.1260345652\n",
       "\\item 54516.4081889245\n",
       "\\item 331.4865176537\n",
       "\\item 4042.8843173767\n",
       "\\item 6730.7277732245\n",
       "\\item 2469.5628878271\n",
       "\\item 46643.6544291658\n",
       "\\item 51.9905539336\n",
       "\\item 54318.2950731095\n",
       "\\item 12018.2783521094\n",
       "\\item 127578.685560971\n",
       "\\item 256426.723981783\n",
       "\\item 85509.6885488626\n",
       "\\item 4.56313552\n",
       "\\item 42.3577126053\n",
       "\\item 165138.172104912\n",
       "\\end{enumerate*}\n"
      ],
      "text/markdown": [
       "1. 173.2641164932\n",
       "2. 456.337499977\n",
       "3. 216611.78845964\n",
       "4. 1368.1628778049\n",
       "5. 624445.33656531\n",
       "6. 46316.0487127122\n",
       "7. 8635.1260345652\n",
       "8. 54516.4081889245\n",
       "9. 331.4865176537\n",
       "10. 4042.8843173767\n",
       "11. 6730.7277732245\n",
       "12. 2469.5628878271\n",
       "13. 46643.6544291658\n",
       "14. 51.9905539336\n",
       "15. 54318.2950731095\n",
       "16. 12018.2783521094\n",
       "17. 127578.685560971\n",
       "18. 256426.723981783\n",
       "19. 85509.6885488626\n",
       "20. 4.56313552\n",
       "21. 42.3577126053\n",
       "22. 165138.172104912\n",
       "\n",
       "\n"
      ],
      "text/plain": [
       " [1] 1.732641e+02 4.563375e+02 2.166118e+05 1.368163e+03 6.244453e+05\n",
       " [6] 4.631605e+04 8.635126e+03 5.451641e+04 3.314865e+02 4.042884e+03\n",
       "[11] 6.730728e+03 2.469563e+03 4.664365e+04 5.199055e+01 5.431830e+04\n",
       "[16] 1.201828e+04 1.275787e+05 2.564267e+05 8.550969e+04 4.563136e+00\n",
       "[21] 4.235771e+01 1.651382e+05"
      ]
     },
     "metadata": {},
     "output_type": "display_data"
    }
   ],
   "source": [
    "df[df$year == 2000,]$tonnes"
   ]
  },
  {
   "cell_type": "code",
   "execution_count": 13,
   "id": "766d6f56",
   "metadata": {
    "scrolled": true
   },
   "outputs": [
    {
     "data": {
      "text/html": [
       "<style>\n",
       ".list-inline {list-style: none; margin:0; padding: 0}\n",
       ".list-inline>li {display: inline-block}\n",
       ".list-inline>li:not(:last-child)::after {content: \"\\00b7\"; padding: 0 .5ex}\n",
       "</style>\n",
       "<ol class=list-inline><li>173.2641164932</li><li>456.337499977</li><li>216611.78845964</li><li>1368.1628778049</li><li>624445.33656531</li><li>46316.0487127122</li><li>8635.1260345652</li><li>54516.4081889245</li><li>331.4865176537</li><li>4042.8843173767</li><li>6730.7277732245</li><li>2469.5628878271</li><li>46643.6544291658</li><li>51.9905539336</li><li>54318.2950731095</li><li>12018.2783521094</li><li>127578.685560971</li><li>256426.723981783</li><li>85509.6885488626</li><li>4.56313552</li><li>42.3577126053</li><li>165138.172104912</li></ol>\n"
      ],
      "text/latex": [
       "\\begin{enumerate*}\n",
       "\\item 173.2641164932\n",
       "\\item 456.337499977\n",
       "\\item 216611.78845964\n",
       "\\item 1368.1628778049\n",
       "\\item 624445.33656531\n",
       "\\item 46316.0487127122\n",
       "\\item 8635.1260345652\n",
       "\\item 54516.4081889245\n",
       "\\item 331.4865176537\n",
       "\\item 4042.8843173767\n",
       "\\item 6730.7277732245\n",
       "\\item 2469.5628878271\n",
       "\\item 46643.6544291658\n",
       "\\item 51.9905539336\n",
       "\\item 54318.2950731095\n",
       "\\item 12018.2783521094\n",
       "\\item 127578.685560971\n",
       "\\item 256426.723981783\n",
       "\\item 85509.6885488626\n",
       "\\item 4.56313552\n",
       "\\item 42.3577126053\n",
       "\\item 165138.172104912\n",
       "\\end{enumerate*}\n"
      ],
      "text/markdown": [
       "1. 173.2641164932\n",
       "2. 456.337499977\n",
       "3. 216611.78845964\n",
       "4. 1368.1628778049\n",
       "5. 624445.33656531\n",
       "6. 46316.0487127122\n",
       "7. 8635.1260345652\n",
       "8. 54516.4081889245\n",
       "9. 331.4865176537\n",
       "10. 4042.8843173767\n",
       "11. 6730.7277732245\n",
       "12. 2469.5628878271\n",
       "13. 46643.6544291658\n",
       "14. 51.9905539336\n",
       "15. 54318.2950731095\n",
       "16. 12018.2783521094\n",
       "17. 127578.685560971\n",
       "18. 256426.723981783\n",
       "19. 85509.6885488626\n",
       "20. 4.56313552\n",
       "21. 42.3577126053\n",
       "22. 165138.172104912\n",
       "\n",
       "\n"
      ],
      "text/plain": [
       " [1] 1.732641e+02 4.563375e+02 2.166118e+05 1.368163e+03 6.244453e+05\n",
       " [6] 4.631605e+04 8.635126e+03 5.451641e+04 3.314865e+02 4.042884e+03\n",
       "[11] 6.730728e+03 2.469563e+03 4.664365e+04 5.199055e+01 5.431830e+04\n",
       "[16] 1.201828e+04 1.275787e+05 2.564267e+05 8.550969e+04 4.563136e+00\n",
       "[21] 4.235771e+01 1.651382e+05"
      ]
     },
     "metadata": {},
     "output_type": "display_data"
    }
   ],
   "source": [
    "df$tonnes[df$year == 2000]"
   ]
  },
  {
   "cell_type": "code",
   "execution_count": 15,
   "id": "3097eab8",
   "metadata": {},
   "outputs": [
    {
     "data": {
      "text/html": [
       "<style>\n",
       ".list-inline {list-style: none; margin:0; padding: 0}\n",
       ".list-inline>li {display: inline-block}\n",
       ".list-inline>li:not(:last-child)::after {content: \"\\00b7\"; padding: 0 .5ex}\n",
       "</style>\n",
       "<ol class=list-inline><li>416010.755818196</li><li>450849.392671516</li><li>426192.910774631</li><li>386871.704816078</li><li>434058.707141318</li><li>437320.512822356</li><li>439806.37318179</li><li>464082.699670492</li><li>448668.307222753</li><li>437739.694663429</li><li>392474.101497576</li><li>452057.789642565</li><li>762251.681452504</li><li>986518.762118099</li><li>1089922.78413197</li><li>1232713.79034151</li><li>1289724.81047876</li><li>1010012.08976595</li><li>998876.351899926</li><li>1236564.0373247</li><li>670956.788754877</li><li>980651.318038087</li><li>1031368.32169484</li><li>979186.572979097</li><li>761933.751960782</li><li>659934.598735591</li><li>499077.119133842</li><li>466805.395965474</li><li>394794.406729687</li><li>418815.922662341</li><li>390345.709469762</li><li>336574.231182705</li><li>373712.887828333</li><li>343526.810581815</li><li>333207.360298805</li><li>306947.640345911</li><li>254765.966877441</li><li>253539.259707147</li><li>260388.817332065</li><li>243424.78119621</li><li>243662.776333428</li><li>268592.24891844</li><li>273104.715237465</li><li>267783.636215008</li><li>249121.491103102</li><li>222176.017773622</li><li>271818.230602842</li><li>258579.96913639</li><li>327094.370995878</li><li>220036.522747013</li><li>216611.78845964</li><li>201517.308159621</li><li>184024.448021666</li><li>177879.156665312</li><li>283272.69856883</li><li>154617.503180388</li><li>115148.897832456</li><li>82096.9621921454</li><li>84182.7653949883</li><li>96758.1985445583</li><li>135872.275022546</li><li>190413.901627513</li><li>131540.090397753</li><li>91494.5394163607</li><li>113055.977035976</li><li>90909.1692698947</li><li>79280.6860252941</li><li>90875.8303305858</li><li>100733.486534835</li><li>88899.2034124855</li></ol>\n"
      ],
      "text/latex": [
       "\\begin{enumerate*}\n",
       "\\item 416010.755818196\n",
       "\\item 450849.392671516\n",
       "\\item 426192.910774631\n",
       "\\item 386871.704816078\n",
       "\\item 434058.707141318\n",
       "\\item 437320.512822356\n",
       "\\item 439806.37318179\n",
       "\\item 464082.699670492\n",
       "\\item 448668.307222753\n",
       "\\item 437739.694663429\n",
       "\\item 392474.101497576\n",
       "\\item 452057.789642565\n",
       "\\item 762251.681452504\n",
       "\\item 986518.762118099\n",
       "\\item 1089922.78413197\n",
       "\\item 1232713.79034151\n",
       "\\item 1289724.81047876\n",
       "\\item 1010012.08976595\n",
       "\\item 998876.351899926\n",
       "\\item 1236564.0373247\n",
       "\\item 670956.788754877\n",
       "\\item 980651.318038087\n",
       "\\item 1031368.32169484\n",
       "\\item 979186.572979097\n",
       "\\item 761933.751960782\n",
       "\\item 659934.598735591\n",
       "\\item 499077.119133842\n",
       "\\item 466805.395965474\n",
       "\\item 394794.406729687\n",
       "\\item 418815.922662341\n",
       "\\item 390345.709469762\n",
       "\\item 336574.231182705\n",
       "\\item 373712.887828333\n",
       "\\item 343526.810581815\n",
       "\\item 333207.360298805\n",
       "\\item 306947.640345911\n",
       "\\item 254765.966877441\n",
       "\\item 253539.259707147\n",
       "\\item 260388.817332065\n",
       "\\item 243424.78119621\n",
       "\\item 243662.776333428\n",
       "\\item 268592.24891844\n",
       "\\item 273104.715237465\n",
       "\\item 267783.636215008\n",
       "\\item 249121.491103102\n",
       "\\item 222176.017773622\n",
       "\\item 271818.230602842\n",
       "\\item 258579.96913639\n",
       "\\item 327094.370995878\n",
       "\\item 220036.522747013\n",
       "\\item 216611.78845964\n",
       "\\item 201517.308159621\n",
       "\\item 184024.448021666\n",
       "\\item 177879.156665312\n",
       "\\item 283272.69856883\n",
       "\\item 154617.503180388\n",
       "\\item 115148.897832456\n",
       "\\item 82096.9621921454\n",
       "\\item 84182.7653949883\n",
       "\\item 96758.1985445583\n",
       "\\item 135872.275022546\n",
       "\\item 190413.901627513\n",
       "\\item 131540.090397753\n",
       "\\item 91494.5394163607\n",
       "\\item 113055.977035976\n",
       "\\item 90909.1692698947\n",
       "\\item 79280.6860252941\n",
       "\\item 90875.8303305858\n",
       "\\item 100733.486534835\n",
       "\\item 88899.2034124855\n",
       "\\end{enumerate*}\n"
      ],
      "text/markdown": [
       "1. 416010.755818196\n",
       "2. 450849.392671516\n",
       "3. 426192.910774631\n",
       "4. 386871.704816078\n",
       "5. 434058.707141318\n",
       "6. 437320.512822356\n",
       "7. 439806.37318179\n",
       "8. 464082.699670492\n",
       "9. 448668.307222753\n",
       "10. 437739.694663429\n",
       "11. 392474.101497576\n",
       "12. 452057.789642565\n",
       "13. 762251.681452504\n",
       "14. 986518.762118099\n",
       "15. 1089922.78413197\n",
       "16. 1232713.79034151\n",
       "17. 1289724.81047876\n",
       "18. 1010012.08976595\n",
       "19. 998876.351899926\n",
       "20. 1236564.0373247\n",
       "21. 670956.788754877\n",
       "22. 980651.318038087\n",
       "23. 1031368.32169484\n",
       "24. 979186.572979097\n",
       "25. 761933.751960782\n",
       "26. 659934.598735591\n",
       "27. 499077.119133842\n",
       "28. 466805.395965474\n",
       "29. 394794.406729687\n",
       "30. 418815.922662341\n",
       "31. 390345.709469762\n",
       "32. 336574.231182705\n",
       "33. 373712.887828333\n",
       "34. 343526.810581815\n",
       "35. 333207.360298805\n",
       "36. 306947.640345911\n",
       "37. 254765.966877441\n",
       "38. 253539.259707147\n",
       "39. 260388.817332065\n",
       "40. 243424.78119621\n",
       "41. 243662.776333428\n",
       "42. 268592.24891844\n",
       "43. 273104.715237465\n",
       "44. 267783.636215008\n",
       "45. 249121.491103102\n",
       "46. 222176.017773622\n",
       "47. 271818.230602842\n",
       "48. 258579.96913639\n",
       "49. 327094.370995878\n",
       "50. 220036.522747013\n",
       "51. 216611.78845964\n",
       "52. 201517.308159621\n",
       "53. 184024.448021666\n",
       "54. 177879.156665312\n",
       "55. 283272.69856883\n",
       "56. 154617.503180388\n",
       "57. 115148.897832456\n",
       "58. 82096.9621921454\n",
       "59. 84182.7653949883\n",
       "60. 96758.1985445583\n",
       "61. 135872.275022546\n",
       "62. 190413.901627513\n",
       "63. 131540.090397753\n",
       "64. 91494.5394163607\n",
       "65. 113055.977035976\n",
       "66. 90909.1692698947\n",
       "67. 79280.6860252941\n",
       "68. 90875.8303305858\n",
       "69. 100733.486534835\n",
       "70. 88899.2034124855\n",
       "\n",
       "\n"
      ],
      "text/plain": [
       " [1]  416010.76  450849.39  426192.91  386871.70  434058.71  437320.51\n",
       " [7]  439806.37  464082.70  448668.31  437739.69  392474.10  452057.79\n",
       "[13]  762251.68  986518.76 1089922.78 1232713.79 1289724.81 1010012.09\n",
       "[19]  998876.35 1236564.04  670956.79  980651.32 1031368.32  979186.57\n",
       "[25]  761933.75  659934.60  499077.12  466805.40  394794.41  418815.92\n",
       "[31]  390345.71  336574.23  373712.89  343526.81  333207.36  306947.64\n",
       "[37]  254765.97  253539.26  260388.82  243424.78  243662.78  268592.25\n",
       "[43]  273104.72  267783.64  249121.49  222176.02  271818.23  258579.97\n",
       "[49]  327094.37  220036.52  216611.79  201517.31  184024.45  177879.16\n",
       "[55]  283272.70  154617.50  115148.90   82096.96   84182.77   96758.20\n",
       "[61]  135872.28  190413.90  131540.09   91494.54  113055.98   90909.17\n",
       "[67]   79280.69   90875.83  100733.49   88899.20"
      ]
     },
     "metadata": {},
     "output_type": "display_data"
    }
   ],
   "source": [
    "df$tonnes[df$gear_type == 'bottom trawl']"
   ]
  },
  {
   "cell_type": "code",
   "execution_count": 16,
   "id": "909713b4",
   "metadata": {},
   "outputs": [
    {
     "data": {
      "text/html": [
       "29063829.784067"
      ],
      "text/latex": [
       "29063829.784067"
      ],
      "text/markdown": [
       "29063829.784067"
      ],
      "text/plain": [
       "[1] 29063830"
      ]
     },
     "metadata": {},
     "output_type": "display_data"
    }
   ],
   "source": [
    "sum(df$tonnes[df$gear_type == 'bottom trawl'])"
   ]
  },
  {
   "cell_type": "code",
   "execution_count": 17,
   "id": "9589233c",
   "metadata": {},
   "outputs": [
    {
     "data": {
      "text/html": [
       "<style>\n",
       ".list-inline {list-style: none; margin:0; padding: 0}\n",
       ".list-inline>li {display: inline-block}\n",
       ".list-inline>li:not(:last-child)::after {content: \"\\00b7\"; padding: 0 .5ex}\n",
       "</style>\n",
       "<ol class=list-inline><li>FALSE</li><li>FALSE</li><li>FALSE</li><li>FALSE</li><li>FALSE</li><li>FALSE</li><li>FALSE</li><li>FALSE</li><li>FALSE</li><li>FALSE</li><li>FALSE</li><li>FALSE</li><li>FALSE</li><li>FALSE</li><li>FALSE</li><li>FALSE</li><li>FALSE</li><li>FALSE</li><li>FALSE</li><li>FALSE</li><li>FALSE</li><li>FALSE</li><li>FALSE</li><li>FALSE</li><li>FALSE</li><li>FALSE</li><li>FALSE</li><li>FALSE</li><li>FALSE</li><li>FALSE</li><li>FALSE</li><li>FALSE</li><li>FALSE</li><li>FALSE</li><li>FALSE</li><li>FALSE</li><li>FALSE</li><li>FALSE</li><li>FALSE</li><li>FALSE</li><li>FALSE</li><li>FALSE</li><li>FALSE</li><li>FALSE</li><li>FALSE</li><li>FALSE</li><li>FALSE</li><li>FALSE</li><li>FALSE</li><li>FALSE</li><li>FALSE</li><li>FALSE</li><li>FALSE</li><li>FALSE</li><li>FALSE</li><li>FALSE</li><li>FALSE</li><li>FALSE</li><li>FALSE</li><li>FALSE</li><li>FALSE</li><li>FALSE</li><li>FALSE</li><li>FALSE</li><li>FALSE</li><li>FALSE</li><li>FALSE</li><li>FALSE</li><li>FALSE</li><li>FALSE</li><li>FALSE</li><li>FALSE</li><li>FALSE</li><li>FALSE</li><li>FALSE</li><li>FALSE</li><li>FALSE</li><li>FALSE</li><li>FALSE</li><li>FALSE</li><li>FALSE</li><li>FALSE</li><li>FALSE</li><li>FALSE</li><li>FALSE</li><li>FALSE</li><li>FALSE</li><li>FALSE</li><li>FALSE</li><li>FALSE</li><li>FALSE</li><li>FALSE</li><li>FALSE</li><li>FALSE</li><li>FALSE</li><li>FALSE</li><li>FALSE</li><li>FALSE</li><li>FALSE</li><li>FALSE</li><li>FALSE</li><li>FALSE</li><li>FALSE</li><li>FALSE</li><li>FALSE</li><li>FALSE</li><li>FALSE</li><li>FALSE</li><li>FALSE</li><li>FALSE</li><li>FALSE</li><li>FALSE</li><li>FALSE</li><li>FALSE</li><li>FALSE</li><li>FALSE</li><li>FALSE</li><li>FALSE</li><li>FALSE</li><li>FALSE</li><li>FALSE</li><li>FALSE</li><li>FALSE</li><li>FALSE</li><li>FALSE</li><li>FALSE</li><li>FALSE</li><li>FALSE</li><li>FALSE</li><li>FALSE</li><li>FALSE</li><li>FALSE</li><li>FALSE</li><li>FALSE</li><li>FALSE</li><li>FALSE</li><li>FALSE</li><li>FALSE</li><li>FALSE</li><li>FALSE</li><li>FALSE</li><li>FALSE</li><li>FALSE</li><li>FALSE</li><li>FALSE</li><li>FALSE</li><li>FALSE</li><li>FALSE</li><li>FALSE</li><li>FALSE</li><li>FALSE</li><li>FALSE</li><li>FALSE</li><li>FALSE</li><li>FALSE</li><li>FALSE</li><li>FALSE</li><li>FALSE</li><li>FALSE</li><li>FALSE</li><li>FALSE</li><li>FALSE</li><li>FALSE</li><li>FALSE</li><li>FALSE</li><li>FALSE</li><li>FALSE</li><li>FALSE</li><li>FALSE</li><li>FALSE</li><li>FALSE</li><li>FALSE</li><li>FALSE</li><li>FALSE</li><li>FALSE</li><li>FALSE</li><li>FALSE</li><li>FALSE</li><li>FALSE</li><li>FALSE</li><li>FALSE</li><li>FALSE</li><li>FALSE</li><li>FALSE</li><li>FALSE</li><li>FALSE</li><li>FALSE</li><li>FALSE</li><li>FALSE</li><li>FALSE</li><li>FALSE</li><li>FALSE</li><li>FALSE</li><li>FALSE</li><li>FALSE</li><li>FALSE</li><li>FALSE</li><li>FALSE</li><li>FALSE</li><li>FALSE</li><li>⋯</li><li>FALSE</li><li>FALSE</li><li>FALSE</li><li>FALSE</li><li>FALSE</li><li>FALSE</li><li>FALSE</li><li>FALSE</li><li>FALSE</li><li>FALSE</li><li>FALSE</li><li>FALSE</li><li>FALSE</li><li>FALSE</li><li>FALSE</li><li>FALSE</li><li>FALSE</li><li>FALSE</li><li>FALSE</li><li>FALSE</li><li>FALSE</li><li>FALSE</li><li>FALSE</li><li>FALSE</li><li>FALSE</li><li>FALSE</li><li>FALSE</li><li>FALSE</li><li>FALSE</li><li>FALSE</li><li>FALSE</li><li>FALSE</li><li>FALSE</li><li>FALSE</li><li>FALSE</li><li>FALSE</li><li>FALSE</li><li>FALSE</li><li>FALSE</li><li>FALSE</li><li>FALSE</li><li>FALSE</li><li>FALSE</li><li>FALSE</li><li>FALSE</li><li>FALSE</li><li>FALSE</li><li>FALSE</li><li>FALSE</li><li>FALSE</li><li>FALSE</li><li>FALSE</li><li>FALSE</li><li>FALSE</li><li>FALSE</li><li>FALSE</li><li>FALSE</li><li>FALSE</li><li>FALSE</li><li>FALSE</li><li>FALSE</li><li>FALSE</li><li>FALSE</li><li>FALSE</li><li>FALSE</li><li>FALSE</li><li>FALSE</li><li>FALSE</li><li>FALSE</li><li>FALSE</li><li>FALSE</li><li>FALSE</li><li>FALSE</li><li>FALSE</li><li>FALSE</li><li>FALSE</li><li>FALSE</li><li>FALSE</li><li>FALSE</li><li>FALSE</li><li>FALSE</li><li>FALSE</li><li>FALSE</li><li>FALSE</li><li>FALSE</li><li>FALSE</li><li>FALSE</li><li>FALSE</li><li>FALSE</li><li>FALSE</li><li>FALSE</li><li>FALSE</li><li>FALSE</li><li>FALSE</li><li>FALSE</li><li>FALSE</li><li>FALSE</li><li>FALSE</li><li>FALSE</li><li>FALSE</li><li>FALSE</li><li>FALSE</li><li>FALSE</li><li>FALSE</li><li>FALSE</li><li>FALSE</li><li>FALSE</li><li>FALSE</li><li>FALSE</li><li>FALSE</li><li>FALSE</li><li>FALSE</li><li>FALSE</li><li>FALSE</li><li>FALSE</li><li>FALSE</li><li>FALSE</li><li>FALSE</li><li>FALSE</li><li>FALSE</li><li>FALSE</li><li>FALSE</li><li>FALSE</li><li>FALSE</li><li>FALSE</li><li>FALSE</li><li>FALSE</li><li>FALSE</li><li>FALSE</li><li>FALSE</li><li>FALSE</li><li>FALSE</li><li>FALSE</li><li>FALSE</li><li>FALSE</li><li>FALSE</li><li>FALSE</li><li>FALSE</li><li>FALSE</li><li>FALSE</li><li>FALSE</li><li>FALSE</li><li>FALSE</li><li>FALSE</li><li>FALSE</li><li>FALSE</li><li>FALSE</li><li>FALSE</li><li>FALSE</li><li>FALSE</li><li>FALSE</li><li>FALSE</li><li>FALSE</li><li>FALSE</li><li>FALSE</li><li>FALSE</li><li>FALSE</li><li>FALSE</li><li>FALSE</li><li>FALSE</li><li>FALSE</li><li>FALSE</li><li>FALSE</li><li>FALSE</li><li>FALSE</li><li>FALSE</li><li>FALSE</li><li>FALSE</li><li>FALSE</li><li>FALSE</li><li>FALSE</li><li>FALSE</li><li>FALSE</li><li>FALSE</li><li>FALSE</li><li>FALSE</li><li>FALSE</li><li>FALSE</li><li>FALSE</li><li>FALSE</li><li>FALSE</li><li>FALSE</li><li>FALSE</li><li>FALSE</li><li>FALSE</li><li>FALSE</li><li>FALSE</li><li>FALSE</li><li>FALSE</li><li>FALSE</li><li>FALSE</li><li>FALSE</li><li>FALSE</li><li>FALSE</li><li>FALSE</li><li>FALSE</li><li>FALSE</li><li>FALSE</li><li>FALSE</li><li>FALSE</li></ol>\n"
      ],
      "text/latex": [
       "\\begin{enumerate*}\n",
       "\\item FALSE\n",
       "\\item FALSE\n",
       "\\item FALSE\n",
       "\\item FALSE\n",
       "\\item FALSE\n",
       "\\item FALSE\n",
       "\\item FALSE\n",
       "\\item FALSE\n",
       "\\item FALSE\n",
       "\\item FALSE\n",
       "\\item FALSE\n",
       "\\item FALSE\n",
       "\\item FALSE\n",
       "\\item FALSE\n",
       "\\item FALSE\n",
       "\\item FALSE\n",
       "\\item FALSE\n",
       "\\item FALSE\n",
       "\\item FALSE\n",
       "\\item FALSE\n",
       "\\item FALSE\n",
       "\\item FALSE\n",
       "\\item FALSE\n",
       "\\item FALSE\n",
       "\\item FALSE\n",
       "\\item FALSE\n",
       "\\item FALSE\n",
       "\\item FALSE\n",
       "\\item FALSE\n",
       "\\item FALSE\n",
       "\\item FALSE\n",
       "\\item FALSE\n",
       "\\item FALSE\n",
       "\\item FALSE\n",
       "\\item FALSE\n",
       "\\item FALSE\n",
       "\\item FALSE\n",
       "\\item FALSE\n",
       "\\item FALSE\n",
       "\\item FALSE\n",
       "\\item FALSE\n",
       "\\item FALSE\n",
       "\\item FALSE\n",
       "\\item FALSE\n",
       "\\item FALSE\n",
       "\\item FALSE\n",
       "\\item FALSE\n",
       "\\item FALSE\n",
       "\\item FALSE\n",
       "\\item FALSE\n",
       "\\item FALSE\n",
       "\\item FALSE\n",
       "\\item FALSE\n",
       "\\item FALSE\n",
       "\\item FALSE\n",
       "\\item FALSE\n",
       "\\item FALSE\n",
       "\\item FALSE\n",
       "\\item FALSE\n",
       "\\item FALSE\n",
       "\\item FALSE\n",
       "\\item FALSE\n",
       "\\item FALSE\n",
       "\\item FALSE\n",
       "\\item FALSE\n",
       "\\item FALSE\n",
       "\\item FALSE\n",
       "\\item FALSE\n",
       "\\item FALSE\n",
       "\\item FALSE\n",
       "\\item FALSE\n",
       "\\item FALSE\n",
       "\\item FALSE\n",
       "\\item FALSE\n",
       "\\item FALSE\n",
       "\\item FALSE\n",
       "\\item FALSE\n",
       "\\item FALSE\n",
       "\\item FALSE\n",
       "\\item FALSE\n",
       "\\item FALSE\n",
       "\\item FALSE\n",
       "\\item FALSE\n",
       "\\item FALSE\n",
       "\\item FALSE\n",
       "\\item FALSE\n",
       "\\item FALSE\n",
       "\\item FALSE\n",
       "\\item FALSE\n",
       "\\item FALSE\n",
       "\\item FALSE\n",
       "\\item FALSE\n",
       "\\item FALSE\n",
       "\\item FALSE\n",
       "\\item FALSE\n",
       "\\item FALSE\n",
       "\\item FALSE\n",
       "\\item FALSE\n",
       "\\item FALSE\n",
       "\\item FALSE\n",
       "\\item FALSE\n",
       "\\item FALSE\n",
       "\\item FALSE\n",
       "\\item FALSE\n",
       "\\item FALSE\n",
       "\\item FALSE\n",
       "\\item FALSE\n",
       "\\item FALSE\n",
       "\\item FALSE\n",
       "\\item FALSE\n",
       "\\item FALSE\n",
       "\\item FALSE\n",
       "\\item FALSE\n",
       "\\item FALSE\n",
       "\\item FALSE\n",
       "\\item FALSE\n",
       "\\item FALSE\n",
       "\\item FALSE\n",
       "\\item FALSE\n",
       "\\item FALSE\n",
       "\\item FALSE\n",
       "\\item FALSE\n",
       "\\item FALSE\n",
       "\\item FALSE\n",
       "\\item FALSE\n",
       "\\item FALSE\n",
       "\\item FALSE\n",
       "\\item FALSE\n",
       "\\item FALSE\n",
       "\\item FALSE\n",
       "\\item FALSE\n",
       "\\item FALSE\n",
       "\\item FALSE\n",
       "\\item FALSE\n",
       "\\item FALSE\n",
       "\\item FALSE\n",
       "\\item FALSE\n",
       "\\item FALSE\n",
       "\\item FALSE\n",
       "\\item FALSE\n",
       "\\item FALSE\n",
       "\\item FALSE\n",
       "\\item FALSE\n",
       "\\item FALSE\n",
       "\\item FALSE\n",
       "\\item FALSE\n",
       "\\item FALSE\n",
       "\\item FALSE\n",
       "\\item FALSE\n",
       "\\item FALSE\n",
       "\\item FALSE\n",
       "\\item FALSE\n",
       "\\item FALSE\n",
       "\\item FALSE\n",
       "\\item FALSE\n",
       "\\item FALSE\n",
       "\\item FALSE\n",
       "\\item FALSE\n",
       "\\item FALSE\n",
       "\\item FALSE\n",
       "\\item FALSE\n",
       "\\item FALSE\n",
       "\\item FALSE\n",
       "\\item FALSE\n",
       "\\item FALSE\n",
       "\\item FALSE\n",
       "\\item FALSE\n",
       "\\item FALSE\n",
       "\\item FALSE\n",
       "\\item FALSE\n",
       "\\item FALSE\n",
       "\\item FALSE\n",
       "\\item FALSE\n",
       "\\item FALSE\n",
       "\\item FALSE\n",
       "\\item FALSE\n",
       "\\item FALSE\n",
       "\\item FALSE\n",
       "\\item FALSE\n",
       "\\item FALSE\n",
       "\\item FALSE\n",
       "\\item FALSE\n",
       "\\item FALSE\n",
       "\\item FALSE\n",
       "\\item FALSE\n",
       "\\item FALSE\n",
       "\\item FALSE\n",
       "\\item FALSE\n",
       "\\item FALSE\n",
       "\\item FALSE\n",
       "\\item FALSE\n",
       "\\item FALSE\n",
       "\\item FALSE\n",
       "\\item FALSE\n",
       "\\item FALSE\n",
       "\\item FALSE\n",
       "\\item FALSE\n",
       "\\item FALSE\n",
       "\\item FALSE\n",
       "\\item FALSE\n",
       "\\item ⋯\n",
       "\\item FALSE\n",
       "\\item FALSE\n",
       "\\item FALSE\n",
       "\\item FALSE\n",
       "\\item FALSE\n",
       "\\item FALSE\n",
       "\\item FALSE\n",
       "\\item FALSE\n",
       "\\item FALSE\n",
       "\\item FALSE\n",
       "\\item FALSE\n",
       "\\item FALSE\n",
       "\\item FALSE\n",
       "\\item FALSE\n",
       "\\item FALSE\n",
       "\\item FALSE\n",
       "\\item FALSE\n",
       "\\item FALSE\n",
       "\\item FALSE\n",
       "\\item FALSE\n",
       "\\item FALSE\n",
       "\\item FALSE\n",
       "\\item FALSE\n",
       "\\item FALSE\n",
       "\\item FALSE\n",
       "\\item FALSE\n",
       "\\item FALSE\n",
       "\\item FALSE\n",
       "\\item FALSE\n",
       "\\item FALSE\n",
       "\\item FALSE\n",
       "\\item FALSE\n",
       "\\item FALSE\n",
       "\\item FALSE\n",
       "\\item FALSE\n",
       "\\item FALSE\n",
       "\\item FALSE\n",
       "\\item FALSE\n",
       "\\item FALSE\n",
       "\\item FALSE\n",
       "\\item FALSE\n",
       "\\item FALSE\n",
       "\\item FALSE\n",
       "\\item FALSE\n",
       "\\item FALSE\n",
       "\\item FALSE\n",
       "\\item FALSE\n",
       "\\item FALSE\n",
       "\\item FALSE\n",
       "\\item FALSE\n",
       "\\item FALSE\n",
       "\\item FALSE\n",
       "\\item FALSE\n",
       "\\item FALSE\n",
       "\\item FALSE\n",
       "\\item FALSE\n",
       "\\item FALSE\n",
       "\\item FALSE\n",
       "\\item FALSE\n",
       "\\item FALSE\n",
       "\\item FALSE\n",
       "\\item FALSE\n",
       "\\item FALSE\n",
       "\\item FALSE\n",
       "\\item FALSE\n",
       "\\item FALSE\n",
       "\\item FALSE\n",
       "\\item FALSE\n",
       "\\item FALSE\n",
       "\\item FALSE\n",
       "\\item FALSE\n",
       "\\item FALSE\n",
       "\\item FALSE\n",
       "\\item FALSE\n",
       "\\item FALSE\n",
       "\\item FALSE\n",
       "\\item FALSE\n",
       "\\item FALSE\n",
       "\\item FALSE\n",
       "\\item FALSE\n",
       "\\item FALSE\n",
       "\\item FALSE\n",
       "\\item FALSE\n",
       "\\item FALSE\n",
       "\\item FALSE\n",
       "\\item FALSE\n",
       "\\item FALSE\n",
       "\\item FALSE\n",
       "\\item FALSE\n",
       "\\item FALSE\n",
       "\\item FALSE\n",
       "\\item FALSE\n",
       "\\item FALSE\n",
       "\\item FALSE\n",
       "\\item FALSE\n",
       "\\item FALSE\n",
       "\\item FALSE\n",
       "\\item FALSE\n",
       "\\item FALSE\n",
       "\\item FALSE\n",
       "\\item FALSE\n",
       "\\item FALSE\n",
       "\\item FALSE\n",
       "\\item FALSE\n",
       "\\item FALSE\n",
       "\\item FALSE\n",
       "\\item FALSE\n",
       "\\item FALSE\n",
       "\\item FALSE\n",
       "\\item FALSE\n",
       "\\item FALSE\n",
       "\\item FALSE\n",
       "\\item FALSE\n",
       "\\item FALSE\n",
       "\\item FALSE\n",
       "\\item FALSE\n",
       "\\item FALSE\n",
       "\\item FALSE\n",
       "\\item FALSE\n",
       "\\item FALSE\n",
       "\\item FALSE\n",
       "\\item FALSE\n",
       "\\item FALSE\n",
       "\\item FALSE\n",
       "\\item FALSE\n",
       "\\item FALSE\n",
       "\\item FALSE\n",
       "\\item FALSE\n",
       "\\item FALSE\n",
       "\\item FALSE\n",
       "\\item FALSE\n",
       "\\item FALSE\n",
       "\\item FALSE\n",
       "\\item FALSE\n",
       "\\item FALSE\n",
       "\\item FALSE\n",
       "\\item FALSE\n",
       "\\item FALSE\n",
       "\\item FALSE\n",
       "\\item FALSE\n",
       "\\item FALSE\n",
       "\\item FALSE\n",
       "\\item FALSE\n",
       "\\item FALSE\n",
       "\\item FALSE\n",
       "\\item FALSE\n",
       "\\item FALSE\n",
       "\\item FALSE\n",
       "\\item FALSE\n",
       "\\item FALSE\n",
       "\\item FALSE\n",
       "\\item FALSE\n",
       "\\item FALSE\n",
       "\\item FALSE\n",
       "\\item FALSE\n",
       "\\item FALSE\n",
       "\\item FALSE\n",
       "\\item FALSE\n",
       "\\item FALSE\n",
       "\\item FALSE\n",
       "\\item FALSE\n",
       "\\item FALSE\n",
       "\\item FALSE\n",
       "\\item FALSE\n",
       "\\item FALSE\n",
       "\\item FALSE\n",
       "\\item FALSE\n",
       "\\item FALSE\n",
       "\\item FALSE\n",
       "\\item FALSE\n",
       "\\item FALSE\n",
       "\\item FALSE\n",
       "\\item FALSE\n",
       "\\item FALSE\n",
       "\\item FALSE\n",
       "\\item FALSE\n",
       "\\item FALSE\n",
       "\\item FALSE\n",
       "\\item FALSE\n",
       "\\item FALSE\n",
       "\\item FALSE\n",
       "\\item FALSE\n",
       "\\item FALSE\n",
       "\\item FALSE\n",
       "\\item FALSE\n",
       "\\item FALSE\n",
       "\\item FALSE\n",
       "\\item FALSE\n",
       "\\item FALSE\n",
       "\\item FALSE\n",
       "\\item FALSE\n",
       "\\item FALSE\n",
       "\\item FALSE\n",
       "\\item FALSE\n",
       "\\item FALSE\n",
       "\\item FALSE\n",
       "\\item FALSE\n",
       "\\item FALSE\n",
       "\\item FALSE\n",
       "\\item FALSE\n",
       "\\end{enumerate*}\n"
      ],
      "text/markdown": [
       "1. FALSE\n",
       "2. FALSE\n",
       "3. FALSE\n",
       "4. FALSE\n",
       "5. FALSE\n",
       "6. FALSE\n",
       "7. FALSE\n",
       "8. FALSE\n",
       "9. FALSE\n",
       "10. FALSE\n",
       "11. FALSE\n",
       "12. FALSE\n",
       "13. FALSE\n",
       "14. FALSE\n",
       "15. FALSE\n",
       "16. FALSE\n",
       "17. FALSE\n",
       "18. FALSE\n",
       "19. FALSE\n",
       "20. FALSE\n",
       "21. FALSE\n",
       "22. FALSE\n",
       "23. FALSE\n",
       "24. FALSE\n",
       "25. FALSE\n",
       "26. FALSE\n",
       "27. FALSE\n",
       "28. FALSE\n",
       "29. FALSE\n",
       "30. FALSE\n",
       "31. FALSE\n",
       "32. FALSE\n",
       "33. FALSE\n",
       "34. FALSE\n",
       "35. FALSE\n",
       "36. FALSE\n",
       "37. FALSE\n",
       "38. FALSE\n",
       "39. FALSE\n",
       "40. FALSE\n",
       "41. FALSE\n",
       "42. FALSE\n",
       "43. FALSE\n",
       "44. FALSE\n",
       "45. FALSE\n",
       "46. FALSE\n",
       "47. FALSE\n",
       "48. FALSE\n",
       "49. FALSE\n",
       "50. FALSE\n",
       "51. FALSE\n",
       "52. FALSE\n",
       "53. FALSE\n",
       "54. FALSE\n",
       "55. FALSE\n",
       "56. FALSE\n",
       "57. FALSE\n",
       "58. FALSE\n",
       "59. FALSE\n",
       "60. FALSE\n",
       "61. FALSE\n",
       "62. FALSE\n",
       "63. FALSE\n",
       "64. FALSE\n",
       "65. FALSE\n",
       "66. FALSE\n",
       "67. FALSE\n",
       "68. FALSE\n",
       "69. FALSE\n",
       "70. FALSE\n",
       "71. FALSE\n",
       "72. FALSE\n",
       "73. FALSE\n",
       "74. FALSE\n",
       "75. FALSE\n",
       "76. FALSE\n",
       "77. FALSE\n",
       "78. FALSE\n",
       "79. FALSE\n",
       "80. FALSE\n",
       "81. FALSE\n",
       "82. FALSE\n",
       "83. FALSE\n",
       "84. FALSE\n",
       "85. FALSE\n",
       "86. FALSE\n",
       "87. FALSE\n",
       "88. FALSE\n",
       "89. FALSE\n",
       "90. FALSE\n",
       "91. FALSE\n",
       "92. FALSE\n",
       "93. FALSE\n",
       "94. FALSE\n",
       "95. FALSE\n",
       "96. FALSE\n",
       "97. FALSE\n",
       "98. FALSE\n",
       "99. FALSE\n",
       "100. FALSE\n",
       "101. FALSE\n",
       "102. FALSE\n",
       "103. FALSE\n",
       "104. FALSE\n",
       "105. FALSE\n",
       "106. FALSE\n",
       "107. FALSE\n",
       "108. FALSE\n",
       "109. FALSE\n",
       "110. FALSE\n",
       "111. FALSE\n",
       "112. FALSE\n",
       "113. FALSE\n",
       "114. FALSE\n",
       "115. FALSE\n",
       "116. FALSE\n",
       "117. FALSE\n",
       "118. FALSE\n",
       "119. FALSE\n",
       "120. FALSE\n",
       "121. FALSE\n",
       "122. FALSE\n",
       "123. FALSE\n",
       "124. FALSE\n",
       "125. FALSE\n",
       "126. FALSE\n",
       "127. FALSE\n",
       "128. FALSE\n",
       "129. FALSE\n",
       "130. FALSE\n",
       "131. FALSE\n",
       "132. FALSE\n",
       "133. FALSE\n",
       "134. FALSE\n",
       "135. FALSE\n",
       "136. FALSE\n",
       "137. FALSE\n",
       "138. FALSE\n",
       "139. FALSE\n",
       "140. FALSE\n",
       "141. FALSE\n",
       "142. FALSE\n",
       "143. FALSE\n",
       "144. FALSE\n",
       "145. FALSE\n",
       "146. FALSE\n",
       "147. FALSE\n",
       "148. FALSE\n",
       "149. FALSE\n",
       "150. FALSE\n",
       "151. FALSE\n",
       "152. FALSE\n",
       "153. FALSE\n",
       "154. FALSE\n",
       "155. FALSE\n",
       "156. FALSE\n",
       "157. FALSE\n",
       "158. FALSE\n",
       "159. FALSE\n",
       "160. FALSE\n",
       "161. FALSE\n",
       "162. FALSE\n",
       "163. FALSE\n",
       "164. FALSE\n",
       "165. FALSE\n",
       "166. FALSE\n",
       "167. FALSE\n",
       "168. FALSE\n",
       "169. FALSE\n",
       "170. FALSE\n",
       "171. FALSE\n",
       "172. FALSE\n",
       "173. FALSE\n",
       "174. FALSE\n",
       "175. FALSE\n",
       "176. FALSE\n",
       "177. FALSE\n",
       "178. FALSE\n",
       "179. FALSE\n",
       "180. FALSE\n",
       "181. FALSE\n",
       "182. FALSE\n",
       "183. FALSE\n",
       "184. FALSE\n",
       "185. FALSE\n",
       "186. FALSE\n",
       "187. FALSE\n",
       "188. FALSE\n",
       "189. FALSE\n",
       "190. FALSE\n",
       "191. FALSE\n",
       "192. FALSE\n",
       "193. FALSE\n",
       "194. FALSE\n",
       "195. FALSE\n",
       "196. FALSE\n",
       "197. FALSE\n",
       "198. FALSE\n",
       "199. FALSE\n",
       "200. FALSE\n",
       "201. ⋯\n",
       "202. FALSE\n",
       "203. FALSE\n",
       "204. FALSE\n",
       "205. FALSE\n",
       "206. FALSE\n",
       "207. FALSE\n",
       "208. FALSE\n",
       "209. FALSE\n",
       "210. FALSE\n",
       "211. FALSE\n",
       "212. FALSE\n",
       "213. FALSE\n",
       "214. FALSE\n",
       "215. FALSE\n",
       "216. FALSE\n",
       "217. FALSE\n",
       "218. FALSE\n",
       "219. FALSE\n",
       "220. FALSE\n",
       "221. FALSE\n",
       "222. FALSE\n",
       "223. FALSE\n",
       "224. FALSE\n",
       "225. FALSE\n",
       "226. FALSE\n",
       "227. FALSE\n",
       "228. FALSE\n",
       "229. FALSE\n",
       "230. FALSE\n",
       "231. FALSE\n",
       "232. FALSE\n",
       "233. FALSE\n",
       "234. FALSE\n",
       "235. FALSE\n",
       "236. FALSE\n",
       "237. FALSE\n",
       "238. FALSE\n",
       "239. FALSE\n",
       "240. FALSE\n",
       "241. FALSE\n",
       "242. FALSE\n",
       "243. FALSE\n",
       "244. FALSE\n",
       "245. FALSE\n",
       "246. FALSE\n",
       "247. FALSE\n",
       "248. FALSE\n",
       "249. FALSE\n",
       "250. FALSE\n",
       "251. FALSE\n",
       "252. FALSE\n",
       "253. FALSE\n",
       "254. FALSE\n",
       "255. FALSE\n",
       "256. FALSE\n",
       "257. FALSE\n",
       "258. FALSE\n",
       "259. FALSE\n",
       "260. FALSE\n",
       "261. FALSE\n",
       "262. FALSE\n",
       "263. FALSE\n",
       "264. FALSE\n",
       "265. FALSE\n",
       "266. FALSE\n",
       "267. FALSE\n",
       "268. FALSE\n",
       "269. FALSE\n",
       "270. FALSE\n",
       "271. FALSE\n",
       "272. FALSE\n",
       "273. FALSE\n",
       "274. FALSE\n",
       "275. FALSE\n",
       "276. FALSE\n",
       "277. FALSE\n",
       "278. FALSE\n",
       "279. FALSE\n",
       "280. FALSE\n",
       "281. FALSE\n",
       "282. FALSE\n",
       "283. FALSE\n",
       "284. FALSE\n",
       "285. FALSE\n",
       "286. FALSE\n",
       "287. FALSE\n",
       "288. FALSE\n",
       "289. FALSE\n",
       "290. FALSE\n",
       "291. FALSE\n",
       "292. FALSE\n",
       "293. FALSE\n",
       "294. FALSE\n",
       "295. FALSE\n",
       "296. FALSE\n",
       "297. FALSE\n",
       "298. FALSE\n",
       "299. FALSE\n",
       "300. FALSE\n",
       "301. FALSE\n",
       "302. FALSE\n",
       "303. FALSE\n",
       "304. FALSE\n",
       "305. FALSE\n",
       "306. FALSE\n",
       "307. FALSE\n",
       "308. FALSE\n",
       "309. FALSE\n",
       "310. FALSE\n",
       "311. FALSE\n",
       "312. FALSE\n",
       "313. FALSE\n",
       "314. FALSE\n",
       "315. FALSE\n",
       "316. FALSE\n",
       "317. FALSE\n",
       "318. FALSE\n",
       "319. FALSE\n",
       "320. FALSE\n",
       "321. FALSE\n",
       "322. FALSE\n",
       "323. FALSE\n",
       "324. FALSE\n",
       "325. FALSE\n",
       "326. FALSE\n",
       "327. FALSE\n",
       "328. FALSE\n",
       "329. FALSE\n",
       "330. FALSE\n",
       "331. FALSE\n",
       "332. FALSE\n",
       "333. FALSE\n",
       "334. FALSE\n",
       "335. FALSE\n",
       "336. FALSE\n",
       "337. FALSE\n",
       "338. FALSE\n",
       "339. FALSE\n",
       "340. FALSE\n",
       "341. FALSE\n",
       "342. FALSE\n",
       "343. FALSE\n",
       "344. FALSE\n",
       "345. FALSE\n",
       "346. FALSE\n",
       "347. FALSE\n",
       "348. FALSE\n",
       "349. FALSE\n",
       "350. FALSE\n",
       "351. FALSE\n",
       "352. FALSE\n",
       "353. FALSE\n",
       "354. FALSE\n",
       "355. FALSE\n",
       "356. FALSE\n",
       "357. FALSE\n",
       "358. FALSE\n",
       "359. FALSE\n",
       "360. FALSE\n",
       "361. FALSE\n",
       "362. FALSE\n",
       "363. FALSE\n",
       "364. FALSE\n",
       "365. FALSE\n",
       "366. FALSE\n",
       "367. FALSE\n",
       "368. FALSE\n",
       "369. FALSE\n",
       "370. FALSE\n",
       "371. FALSE\n",
       "372. FALSE\n",
       "373. FALSE\n",
       "374. FALSE\n",
       "375. FALSE\n",
       "376. FALSE\n",
       "377. FALSE\n",
       "378. FALSE\n",
       "379. FALSE\n",
       "380. FALSE\n",
       "381. FALSE\n",
       "382. FALSE\n",
       "383. FALSE\n",
       "384. FALSE\n",
       "385. FALSE\n",
       "386. FALSE\n",
       "387. FALSE\n",
       "388. FALSE\n",
       "389. FALSE\n",
       "390. FALSE\n",
       "391. FALSE\n",
       "392. FALSE\n",
       "393. FALSE\n",
       "394. FALSE\n",
       "395. FALSE\n",
       "396. FALSE\n",
       "397. FALSE\n",
       "398. FALSE\n",
       "399. FALSE\n",
       "400. FALSE\n",
       "401. FALSE\n",
       "\n",
       "\n"
      ],
      "text/plain": [
       "   [1] FALSE FALSE FALSE FALSE FALSE FALSE FALSE FALSE FALSE FALSE FALSE FALSE\n",
       "  [13] FALSE FALSE FALSE FALSE FALSE FALSE FALSE FALSE FALSE FALSE FALSE FALSE\n",
       "  [25] FALSE FALSE FALSE FALSE FALSE FALSE FALSE FALSE FALSE FALSE FALSE FALSE\n",
       "  [37] FALSE FALSE FALSE FALSE FALSE FALSE FALSE FALSE FALSE FALSE FALSE FALSE\n",
       "  [49] FALSE FALSE FALSE FALSE FALSE FALSE FALSE FALSE FALSE FALSE FALSE FALSE\n",
       "  [61] FALSE FALSE FALSE FALSE FALSE FALSE FALSE FALSE FALSE FALSE FALSE FALSE\n",
       "  [73] FALSE FALSE FALSE FALSE FALSE FALSE FALSE FALSE FALSE FALSE FALSE FALSE\n",
       "  [85] FALSE FALSE FALSE FALSE FALSE FALSE FALSE FALSE FALSE FALSE FALSE FALSE\n",
       "  [97] FALSE FALSE FALSE FALSE FALSE FALSE FALSE FALSE FALSE FALSE FALSE FALSE\n",
       " [109] FALSE FALSE FALSE FALSE FALSE FALSE FALSE FALSE FALSE FALSE FALSE FALSE\n",
       " [121] FALSE FALSE FALSE FALSE FALSE FALSE FALSE FALSE FALSE FALSE FALSE FALSE\n",
       " [133] FALSE FALSE FALSE FALSE FALSE FALSE FALSE FALSE FALSE FALSE FALSE FALSE\n",
       " [145] FALSE FALSE FALSE FALSE FALSE FALSE FALSE FALSE FALSE FALSE FALSE FALSE\n",
       " [157] FALSE FALSE FALSE FALSE FALSE FALSE FALSE FALSE FALSE FALSE FALSE FALSE\n",
       " [169] FALSE FALSE FALSE FALSE FALSE FALSE FALSE FALSE FALSE FALSE FALSE FALSE\n",
       " [181] FALSE FALSE FALSE FALSE FALSE FALSE FALSE FALSE FALSE FALSE FALSE FALSE\n",
       " [193] FALSE FALSE FALSE FALSE FALSE FALSE FALSE FALSE FALSE FALSE FALSE FALSE\n",
       " [205] FALSE FALSE FALSE FALSE FALSE FALSE FALSE FALSE FALSE FALSE FALSE FALSE\n",
       " [217] FALSE FALSE FALSE FALSE FALSE FALSE FALSE FALSE FALSE FALSE FALSE FALSE\n",
       " [229] FALSE FALSE FALSE FALSE FALSE FALSE FALSE FALSE FALSE FALSE FALSE FALSE\n",
       " [241] FALSE FALSE FALSE FALSE FALSE FALSE FALSE FALSE FALSE FALSE FALSE FALSE\n",
       " [253] FALSE FALSE FALSE FALSE FALSE FALSE FALSE FALSE FALSE FALSE FALSE FALSE\n",
       " [265] FALSE FALSE FALSE FALSE FALSE FALSE FALSE FALSE FALSE FALSE FALSE FALSE\n",
       " [277] FALSE FALSE FALSE FALSE FALSE FALSE FALSE FALSE FALSE FALSE FALSE FALSE\n",
       " [289] FALSE FALSE FALSE FALSE FALSE FALSE FALSE FALSE FALSE FALSE FALSE FALSE\n",
       " [301] FALSE FALSE FALSE FALSE FALSE FALSE FALSE FALSE FALSE FALSE FALSE FALSE\n",
       " [313] FALSE FALSE FALSE FALSE FALSE FALSE FALSE FALSE FALSE FALSE FALSE FALSE\n",
       " [325] FALSE FALSE FALSE FALSE FALSE FALSE FALSE FALSE FALSE FALSE FALSE FALSE\n",
       " [337] FALSE FALSE FALSE FALSE FALSE FALSE FALSE FALSE FALSE FALSE FALSE FALSE\n",
       " [349] FALSE FALSE FALSE FALSE FALSE FALSE FALSE FALSE FALSE FALSE FALSE FALSE\n",
       " [361] FALSE FALSE FALSE FALSE FALSE FALSE FALSE FALSE FALSE FALSE FALSE FALSE\n",
       " [373] FALSE FALSE FALSE FALSE FALSE FALSE FALSE FALSE FALSE FALSE FALSE FALSE\n",
       " [385] FALSE FALSE FALSE FALSE FALSE FALSE FALSE FALSE FALSE FALSE FALSE FALSE\n",
       " [397] FALSE FALSE FALSE FALSE FALSE FALSE FALSE FALSE FALSE FALSE FALSE FALSE\n",
       " [409] FALSE FALSE FALSE FALSE FALSE FALSE FALSE FALSE FALSE FALSE FALSE FALSE\n",
       " [421] FALSE FALSE FALSE FALSE FALSE FALSE FALSE FALSE FALSE FALSE FALSE FALSE\n",
       " [433] FALSE FALSE FALSE FALSE FALSE FALSE FALSE FALSE FALSE FALSE FALSE FALSE\n",
       " [445] FALSE FALSE FALSE FALSE FALSE FALSE FALSE FALSE FALSE FALSE FALSE FALSE\n",
       " [457] FALSE FALSE FALSE FALSE FALSE FALSE FALSE FALSE FALSE FALSE FALSE FALSE\n",
       " [469] FALSE FALSE FALSE FALSE FALSE FALSE FALSE FALSE FALSE FALSE FALSE FALSE\n",
       " [481] FALSE FALSE FALSE FALSE FALSE FALSE FALSE FALSE FALSE FALSE FALSE FALSE\n",
       " [493] FALSE FALSE FALSE FALSE FALSE FALSE FALSE FALSE FALSE FALSE FALSE FALSE\n",
       " [505] FALSE FALSE FALSE FALSE FALSE FALSE FALSE FALSE FALSE FALSE FALSE FALSE\n",
       " [517] FALSE FALSE FALSE FALSE FALSE FALSE FALSE FALSE FALSE FALSE FALSE FALSE\n",
       " [529] FALSE FALSE FALSE FALSE FALSE FALSE FALSE FALSE FALSE FALSE FALSE FALSE\n",
       " [541] FALSE FALSE FALSE FALSE FALSE FALSE FALSE FALSE FALSE FALSE FALSE FALSE\n",
       " [553] FALSE FALSE FALSE FALSE FALSE FALSE FALSE FALSE FALSE FALSE FALSE FALSE\n",
       " [565] FALSE FALSE FALSE FALSE FALSE FALSE FALSE FALSE FALSE FALSE FALSE FALSE\n",
       " [577] FALSE FALSE FALSE FALSE FALSE FALSE FALSE FALSE FALSE FALSE FALSE FALSE\n",
       " [589] FALSE FALSE FALSE FALSE FALSE FALSE FALSE FALSE FALSE FALSE FALSE FALSE\n",
       " [601] FALSE FALSE FALSE FALSE FALSE FALSE FALSE FALSE FALSE FALSE FALSE FALSE\n",
       " [613] FALSE FALSE FALSE FALSE FALSE FALSE FALSE FALSE FALSE FALSE FALSE FALSE\n",
       " [625] FALSE FALSE FALSE FALSE FALSE FALSE FALSE FALSE FALSE FALSE FALSE FALSE\n",
       " [637] FALSE FALSE FALSE FALSE FALSE FALSE FALSE FALSE FALSE FALSE FALSE FALSE\n",
       " [649] FALSE FALSE FALSE FALSE FALSE FALSE FALSE FALSE FALSE FALSE FALSE FALSE\n",
       " [661] FALSE FALSE FALSE FALSE FALSE FALSE FALSE FALSE FALSE FALSE FALSE FALSE\n",
       " [673] FALSE FALSE FALSE FALSE FALSE FALSE FALSE FALSE FALSE FALSE FALSE FALSE\n",
       " [685] FALSE FALSE FALSE FALSE FALSE FALSE FALSE FALSE FALSE FALSE FALSE FALSE\n",
       " [697] FALSE FALSE FALSE FALSE FALSE FALSE FALSE FALSE FALSE FALSE FALSE FALSE\n",
       " [709] FALSE FALSE FALSE FALSE FALSE FALSE FALSE FALSE FALSE FALSE FALSE FALSE\n",
       " [721] FALSE FALSE FALSE FALSE FALSE FALSE FALSE FALSE FALSE FALSE FALSE FALSE\n",
       " [733] FALSE FALSE FALSE FALSE FALSE FALSE FALSE FALSE FALSE FALSE FALSE FALSE\n",
       " [745] FALSE FALSE FALSE FALSE FALSE FALSE FALSE FALSE FALSE FALSE FALSE FALSE\n",
       " [757] FALSE FALSE FALSE FALSE FALSE FALSE FALSE FALSE FALSE FALSE FALSE FALSE\n",
       " [769] FALSE FALSE FALSE FALSE FALSE FALSE FALSE FALSE FALSE FALSE FALSE FALSE\n",
       " [781] FALSE FALSE FALSE FALSE FALSE FALSE FALSE FALSE FALSE FALSE FALSE FALSE\n",
       " [793] FALSE FALSE FALSE FALSE FALSE FALSE FALSE FALSE FALSE FALSE FALSE FALSE\n",
       " [805] FALSE FALSE FALSE FALSE FALSE FALSE FALSE FALSE FALSE FALSE FALSE FALSE\n",
       " [817] FALSE FALSE FALSE FALSE FALSE FALSE FALSE FALSE FALSE FALSE FALSE FALSE\n",
       " [829] FALSE FALSE FALSE FALSE FALSE FALSE FALSE FALSE FALSE FALSE FALSE FALSE\n",
       " [841] FALSE FALSE FALSE FALSE FALSE FALSE FALSE FALSE FALSE FALSE FALSE FALSE\n",
       " [853] FALSE FALSE FALSE FALSE FALSE FALSE FALSE FALSE FALSE FALSE FALSE FALSE\n",
       " [865] FALSE FALSE FALSE FALSE FALSE FALSE FALSE FALSE FALSE FALSE FALSE FALSE\n",
       " [877] FALSE FALSE FALSE FALSE FALSE FALSE FALSE FALSE FALSE FALSE FALSE FALSE\n",
       " [889] FALSE FALSE FALSE FALSE FALSE FALSE FALSE FALSE FALSE FALSE FALSE FALSE\n",
       " [901] FALSE FALSE FALSE FALSE FALSE FALSE FALSE FALSE FALSE FALSE FALSE FALSE\n",
       " [913] FALSE FALSE FALSE FALSE FALSE FALSE FALSE FALSE FALSE FALSE FALSE FALSE\n",
       " [925] FALSE FALSE FALSE FALSE FALSE FALSE FALSE FALSE FALSE FALSE FALSE FALSE\n",
       " [937] FALSE FALSE FALSE FALSE FALSE FALSE FALSE FALSE FALSE FALSE FALSE FALSE\n",
       " [949] FALSE FALSE FALSE FALSE FALSE FALSE FALSE FALSE FALSE FALSE FALSE FALSE\n",
       " [961] FALSE FALSE FALSE FALSE FALSE FALSE FALSE FALSE FALSE FALSE FALSE FALSE\n",
       " [973] FALSE FALSE FALSE FALSE FALSE FALSE FALSE FALSE FALSE FALSE FALSE FALSE\n",
       " [985] FALSE FALSE FALSE FALSE FALSE FALSE FALSE FALSE FALSE FALSE FALSE FALSE\n",
       " [997] FALSE FALSE FALSE FALSE FALSE FALSE FALSE FALSE FALSE FALSE FALSE FALSE\n",
       "[1009] FALSE FALSE FALSE FALSE FALSE FALSE FALSE FALSE FALSE FALSE FALSE FALSE\n",
       "[1021] FALSE FALSE FALSE FALSE FALSE FALSE FALSE FALSE FALSE FALSE FALSE FALSE\n",
       "[1033] FALSE FALSE FALSE FALSE FALSE FALSE FALSE FALSE FALSE FALSE FALSE FALSE\n",
       "[1045] FALSE FALSE FALSE FALSE FALSE FALSE FALSE FALSE FALSE FALSE FALSE FALSE\n",
       "[1057] FALSE FALSE FALSE FALSE FALSE FALSE FALSE FALSE FALSE FALSE FALSE FALSE\n",
       "[1069] FALSE FALSE FALSE FALSE FALSE FALSE FALSE FALSE FALSE FALSE FALSE FALSE\n",
       "[1081] FALSE FALSE FALSE FALSE FALSE FALSE FALSE FALSE FALSE FALSE FALSE FALSE\n",
       "[1093] FALSE FALSE FALSE FALSE FALSE FALSE FALSE FALSE FALSE FALSE FALSE FALSE\n",
       "[1105] FALSE FALSE FALSE FALSE FALSE FALSE FALSE FALSE FALSE FALSE FALSE FALSE\n",
       "[1117] FALSE FALSE FALSE FALSE FALSE FALSE FALSE FALSE FALSE FALSE FALSE FALSE\n",
       "[1129] FALSE FALSE FALSE FALSE FALSE  TRUE FALSE FALSE FALSE FALSE FALSE FALSE\n",
       "[1141] FALSE FALSE FALSE FALSE FALSE FALSE FALSE FALSE FALSE FALSE FALSE FALSE\n",
       "[1153] FALSE FALSE FALSE FALSE FALSE FALSE FALSE FALSE FALSE FALSE FALSE FALSE\n",
       "[1165] FALSE FALSE FALSE FALSE FALSE FALSE FALSE FALSE FALSE FALSE FALSE FALSE\n",
       "[1177] FALSE FALSE FALSE FALSE FALSE FALSE FALSE FALSE FALSE FALSE FALSE FALSE\n",
       "[1189] FALSE FALSE FALSE FALSE FALSE FALSE FALSE FALSE FALSE FALSE FALSE FALSE\n",
       "[1201] FALSE FALSE FALSE FALSE FALSE FALSE FALSE FALSE FALSE FALSE FALSE FALSE\n",
       "[1213] FALSE FALSE FALSE FALSE FALSE FALSE FALSE FALSE FALSE FALSE FALSE FALSE\n",
       "[1225] FALSE FALSE FALSE FALSE FALSE FALSE FALSE FALSE FALSE FALSE FALSE FALSE\n",
       "[1237] FALSE FALSE FALSE FALSE FALSE FALSE FALSE FALSE FALSE FALSE FALSE FALSE\n",
       "[1249] FALSE FALSE FALSE FALSE FALSE FALSE FALSE FALSE FALSE FALSE FALSE FALSE\n",
       "[1261] FALSE FALSE FALSE FALSE FALSE FALSE FALSE FALSE FALSE FALSE FALSE FALSE\n",
       "[1273] FALSE FALSE FALSE FALSE FALSE FALSE FALSE FALSE FALSE FALSE FALSE FALSE\n",
       "[1285] FALSE FALSE FALSE FALSE FALSE FALSE FALSE FALSE FALSE FALSE FALSE FALSE\n",
       "[1297] FALSE FALSE FALSE FALSE FALSE FALSE FALSE FALSE FALSE FALSE FALSE FALSE\n",
       "[1309] FALSE FALSE FALSE FALSE FALSE FALSE FALSE FALSE FALSE FALSE FALSE FALSE\n",
       "[1321] FALSE FALSE FALSE FALSE FALSE FALSE FALSE FALSE FALSE FALSE FALSE FALSE\n",
       "[1333] FALSE FALSE FALSE FALSE FALSE FALSE FALSE FALSE FALSE FALSE FALSE FALSE\n",
       "[1345] FALSE FALSE FALSE FALSE FALSE FALSE FALSE FALSE FALSE FALSE FALSE FALSE\n",
       "[1357] FALSE FALSE FALSE FALSE FALSE FALSE FALSE FALSE FALSE FALSE FALSE FALSE\n",
       "[1369] FALSE FALSE FALSE FALSE FALSE FALSE FALSE FALSE FALSE FALSE FALSE FALSE\n",
       "[1381] FALSE FALSE FALSE FALSE FALSE FALSE FALSE FALSE FALSE FALSE FALSE FALSE\n",
       "[1393] FALSE FALSE FALSE FALSE FALSE FALSE FALSE FALSE FALSE FALSE FALSE FALSE\n",
       "[1405] FALSE FALSE FALSE FALSE FALSE FALSE FALSE FALSE FALSE FALSE FALSE FALSE\n",
       "[1417] FALSE FALSE FALSE FALSE FALSE FALSE FALSE FALSE FALSE FALSE FALSE FALSE\n",
       "[1429] FALSE FALSE FALSE FALSE FALSE FALSE FALSE FALSE FALSE FALSE FALSE FALSE\n",
       "[1441] FALSE FALSE FALSE FALSE FALSE FALSE FALSE FALSE FALSE FALSE FALSE FALSE\n",
       "[1453] FALSE FALSE FALSE FALSE FALSE FALSE FALSE FALSE FALSE FALSE FALSE FALSE\n",
       "[1465] FALSE FALSE FALSE FALSE FALSE FALSE FALSE FALSE FALSE FALSE FALSE FALSE\n",
       "[1477] FALSE FALSE FALSE FALSE FALSE FALSE FALSE FALSE FALSE FALSE FALSE FALSE\n",
       "[1489] FALSE FALSE FALSE FALSE FALSE FALSE FALSE FALSE FALSE FALSE FALSE FALSE\n",
       "[1501] FALSE FALSE FALSE FALSE FALSE FALSE FALSE FALSE FALSE FALSE FALSE FALSE\n",
       "[1513] FALSE FALSE FALSE FALSE FALSE FALSE FALSE FALSE FALSE FALSE FALSE FALSE\n",
       "[1525] FALSE FALSE FALSE FALSE FALSE FALSE FALSE FALSE FALSE FALSE FALSE FALSE\n",
       "[1537] FALSE FALSE FALSE FALSE FALSE FALSE FALSE FALSE FALSE FALSE FALSE FALSE\n",
       "[1549] FALSE FALSE FALSE FALSE FALSE FALSE FALSE FALSE FALSE FALSE FALSE FALSE\n",
       "[1561] FALSE FALSE FALSE FALSE FALSE FALSE FALSE FALSE FALSE FALSE FALSE FALSE\n",
       "[1573] FALSE FALSE FALSE FALSE FALSE FALSE"
      ]
     },
     "metadata": {},
     "output_type": "display_data"
    }
   ],
   "source": [
    "df$year == 2000 & df$gear_type == 'bottom trawl'"
   ]
  },
  {
   "cell_type": "code",
   "execution_count": 18,
   "id": "4efeb749",
   "metadata": {},
   "outputs": [
    {
     "data": {
      "text/html": [
       "216611.78845964"
      ],
      "text/latex": [
       "216611.78845964"
      ],
      "text/markdown": [
       "216611.78845964"
      ],
      "text/plain": [
       "[1] 216611.8"
      ]
     },
     "metadata": {},
     "output_type": "display_data"
    }
   ],
   "source": [
    "df$tonnes[df$year == 2000 & df$gear_type == 'bottom trawl']"
   ]
  },
  {
   "cell_type": "code",
   "execution_count": 19,
   "id": "0e8515f7",
   "metadata": {},
   "outputs": [
    {
     "data": {
      "text/html": [
       "<table class=\"dataframe\">\n",
       "<caption>A data.frame: 1 × 4</caption>\n",
       "<thead>\n",
       "\t<tr><th></th><th scope=col>year</th><th scope=col>gear_type</th><th scope=col>tonnes</th><th scope=col>landed_value</th></tr>\n",
       "\t<tr><th></th><th scope=col>&lt;int&gt;</th><th scope=col>&lt;chr&gt;</th><th scope=col>&lt;dbl&gt;</th><th scope=col>&lt;dbl&gt;</th></tr>\n",
       "</thead>\n",
       "<tbody>\n",
       "\t<tr><th scope=row>1134</th><td>2000</td><td>bottom trawl</td><td>216611.8</td><td>472188677</td></tr>\n",
       "</tbody>\n",
       "</table>\n"
      ],
      "text/latex": [
       "A data.frame: 1 × 4\n",
       "\\begin{tabular}{r|llll}\n",
       "  & year & gear\\_type & tonnes & landed\\_value\\\\\n",
       "  & <int> & <chr> & <dbl> & <dbl>\\\\\n",
       "\\hline\n",
       "\t1134 & 2000 & bottom trawl & 216611.8 & 472188677\\\\\n",
       "\\end{tabular}\n"
      ],
      "text/markdown": [
       "\n",
       "A data.frame: 1 × 4\n",
       "\n",
       "| <!--/--> | year &lt;int&gt; | gear_type &lt;chr&gt; | tonnes &lt;dbl&gt; | landed_value &lt;dbl&gt; |\n",
       "|---|---|---|---|---|\n",
       "| 1134 | 2000 | bottom trawl | 216611.8 | 472188677 |\n",
       "\n"
      ],
      "text/plain": [
       "     year gear_type    tonnes   landed_value\n",
       "1134 2000 bottom trawl 216611.8 472188677   "
      ]
     },
     "metadata": {},
     "output_type": "display_data"
    }
   ],
   "source": [
    "df[df$year == 2000 & df$gear_type == \"bottom trawl\",]"
   ]
  },
  {
   "cell_type": "code",
   "execution_count": 20,
   "id": "d326ed73",
   "metadata": {},
   "outputs": [
    {
     "data": {
      "text/html": [
       "<table class=\"dataframe\">\n",
       "<caption>A data.frame: 1 × 4</caption>\n",
       "<thead>\n",
       "\t<tr><th></th><th scope=col>year</th><th scope=col>gear_type</th><th scope=col>tonnes</th><th scope=col>landed_value</th></tr>\n",
       "\t<tr><th></th><th scope=col>&lt;int&gt;</th><th scope=col>&lt;chr&gt;</th><th scope=col>&lt;dbl&gt;</th><th scope=col>&lt;dbl&gt;</th></tr>\n",
       "</thead>\n",
       "<tbody>\n",
       "\t<tr><th scope=row>1134</th><td>2000</td><td>bottom trawl</td><td>216611.8</td><td>472188677</td></tr>\n",
       "</tbody>\n",
       "</table>\n"
      ],
      "text/latex": [
       "A data.frame: 1 × 4\n",
       "\\begin{tabular}{r|llll}\n",
       "  & year & gear\\_type & tonnes & landed\\_value\\\\\n",
       "  & <int> & <chr> & <dbl> & <dbl>\\\\\n",
       "\\hline\n",
       "\t1134 & 2000 & bottom trawl & 216611.8 & 472188677\\\\\n",
       "\\end{tabular}\n"
      ],
      "text/markdown": [
       "\n",
       "A data.frame: 1 × 4\n",
       "\n",
       "| <!--/--> | year &lt;int&gt; | gear_type &lt;chr&gt; | tonnes &lt;dbl&gt; | landed_value &lt;dbl&gt; |\n",
       "|---|---|---|---|---|\n",
       "| 1134 | 2000 | bottom trawl | 216611.8 | 472188677 |\n",
       "\n"
      ],
      "text/plain": [
       "     year gear_type    tonnes   landed_value\n",
       "1134 2000 bottom trawl 216611.8 472188677   "
      ]
     },
     "metadata": {},
     "output_type": "display_data"
    }
   ],
   "source": [
    "subset(df, year == 2000 & gear_type == \"bottom trawl\")"
   ]
  },
  {
   "cell_type": "markdown",
   "id": "26f0a1e3",
   "metadata": {},
   "source": [
    "Question 2: What is the average value for a given gear type?"
   ]
  },
  {
   "cell_type": "code",
   "execution_count": 21,
   "id": "88548542",
   "metadata": {},
   "outputs": [
    {
     "data": {
      "text/html": [
       "<table class=\"dataframe\">\n",
       "<caption>A data.frame: 70 × 4</caption>\n",
       "<thead>\n",
       "\t<tr><th></th><th scope=col>year</th><th scope=col>gear_type</th><th scope=col>tonnes</th><th scope=col>landed_value</th></tr>\n",
       "\t<tr><th></th><th scope=col>&lt;int&gt;</th><th scope=col>&lt;chr&gt;</th><th scope=col>&lt;dbl&gt;</th><th scope=col>&lt;dbl&gt;</th></tr>\n",
       "</thead>\n",
       "<tbody>\n",
       "\t<tr><th scope=row>3</th><td>1950</td><td>bottom trawl</td><td> 416010.8</td><td>538917163</td></tr>\n",
       "\t<tr><th scope=row>26</th><td>1951</td><td>bottom trawl</td><td> 450849.4</td><td>586264212</td></tr>\n",
       "\t<tr><th scope=row>49</th><td>1952</td><td>bottom trawl</td><td> 426192.9</td><td>528159119</td></tr>\n",
       "\t<tr><th scope=row>72</th><td>1953</td><td>bottom trawl</td><td> 386871.7</td><td>445512495</td></tr>\n",
       "\t<tr><th scope=row>95</th><td>1954</td><td>bottom trawl</td><td> 434058.7</td><td>668991801</td></tr>\n",
       "\t<tr><th scope=row>118</th><td>1955</td><td>bottom trawl</td><td> 437320.5</td><td>642494355</td></tr>\n",
       "\t<tr><th scope=row>141</th><td>1956</td><td>bottom trawl</td><td> 439806.4</td><td>601300494</td></tr>\n",
       "\t<tr><th scope=row>164</th><td>1957</td><td>bottom trawl</td><td> 464082.7</td><td>715416493</td></tr>\n",
       "\t<tr><th scope=row>187</th><td>1958</td><td>bottom trawl</td><td> 448668.3</td><td>702238516</td></tr>\n",
       "\t<tr><th scope=row>210</th><td>1959</td><td>bottom trawl</td><td> 437739.7</td><td>718512767</td></tr>\n",
       "\t<tr><th scope=row>233</th><td>1960</td><td>bottom trawl</td><td> 392474.1</td><td>692032060</td></tr>\n",
       "\t<tr><th scope=row>256</th><td>1961</td><td>bottom trawl</td><td> 452057.8</td><td>602334904</td></tr>\n",
       "\t<tr><th scope=row>279</th><td>1962</td><td>bottom trawl</td><td> 762251.7</td><td>787674704</td></tr>\n",
       "\t<tr><th scope=row>302</th><td>1963</td><td>bottom trawl</td><td> 986518.8</td><td>685923168</td></tr>\n",
       "\t<tr><th scope=row>326</th><td>1964</td><td>bottom trawl</td><td>1089922.8</td><td>552389739</td></tr>\n",
       "\t<tr><th scope=row>350</th><td>1965</td><td>bottom trawl</td><td>1232713.8</td><td>726246516</td></tr>\n",
       "\t<tr><th scope=row>373</th><td>1966</td><td>bottom trawl</td><td>1289724.8</td><td>760192561</td></tr>\n",
       "\t<tr><th scope=row>397</th><td>1967</td><td>bottom trawl</td><td>1010012.1</td><td>543851356</td></tr>\n",
       "\t<tr><th scope=row>421</th><td>1968</td><td>bottom trawl</td><td> 998876.4</td><td>526017529</td></tr>\n",
       "\t<tr><th scope=row>445</th><td>1969</td><td>bottom trawl</td><td>1236564.0</td><td>595583481</td></tr>\n",
       "\t<tr><th scope=row>469</th><td>1970</td><td>bottom trawl</td><td> 670956.8</td><td>585696476</td></tr>\n",
       "\t<tr><th scope=row>492</th><td>1971</td><td>bottom trawl</td><td> 980651.3</td><td>599282657</td></tr>\n",
       "\t<tr><th scope=row>516</th><td>1972</td><td>bottom trawl</td><td>1031368.3</td><td>640073250</td></tr>\n",
       "\t<tr><th scope=row>538</th><td>1973</td><td>bottom trawl</td><td> 979186.6</td><td>764783665</td></tr>\n",
       "\t<tr><th scope=row>562</th><td>1974</td><td>bottom trawl</td><td> 761933.8</td><td>628774877</td></tr>\n",
       "\t<tr><th scope=row>586</th><td>1975</td><td>bottom trawl</td><td> 659934.6</td><td>720155392</td></tr>\n",
       "\t<tr><th scope=row>609</th><td>1976</td><td>bottom trawl</td><td> 499077.1</td><td>904457197</td></tr>\n",
       "\t<tr><th scope=row>633</th><td>1977</td><td>bottom trawl</td><td> 466805.4</td><td>755689599</td></tr>\n",
       "\t<tr><th scope=row>656</th><td>1978</td><td>bottom trawl</td><td> 394794.4</td><td>706281342</td></tr>\n",
       "\t<tr><th scope=row>678</th><td>1979</td><td>bottom trawl</td><td> 418815.9</td><td>614940267</td></tr>\n",
       "\t<tr><th scope=row>⋮</th><td>⋮</td><td>⋮</td><td>⋮</td><td>⋮</td></tr>\n",
       "\t<tr><th scope=row>912</th><td>1990</td><td>bottom trawl</td><td>243662.78</td><td>502503539</td></tr>\n",
       "\t<tr><th scope=row>933</th><td>1991</td><td>bottom trawl</td><td>268592.25</td><td>586241824</td></tr>\n",
       "\t<tr><th scope=row>956</th><td>1992</td><td>bottom trawl</td><td>273104.72</td><td>492845222</td></tr>\n",
       "\t<tr><th scope=row>978</th><td>1993</td><td>bottom trawl</td><td>267783.64</td><td>454713648</td></tr>\n",
       "\t<tr><th scope=row>1001</th><td>1994</td><td>bottom trawl</td><td>249121.49</td><td>456626401</td></tr>\n",
       "\t<tr><th scope=row>1023</th><td>1995</td><td>bottom trawl</td><td>222176.02</td><td>444240764</td></tr>\n",
       "\t<tr><th scope=row>1045</th><td>1996</td><td>bottom trawl</td><td>271818.23</td><td>411614322</td></tr>\n",
       "\t<tr><th scope=row>1068</th><td>1997</td><td>bottom trawl</td><td>258579.97</td><td>398530383</td></tr>\n",
       "\t<tr><th scope=row>1090</th><td>1998</td><td>bottom trawl</td><td>327094.37</td><td>422630545</td></tr>\n",
       "\t<tr><th scope=row>1113</th><td>1999</td><td>bottom trawl</td><td>220036.52</td><td>483557463</td></tr>\n",
       "\t<tr><th scope=row>1134</th><td>2000</td><td>bottom trawl</td><td>216611.79</td><td>472188677</td></tr>\n",
       "\t<tr><th scope=row>1156</th><td>2001</td><td>bottom trawl</td><td>201517.31</td><td>514322415</td></tr>\n",
       "\t<tr><th scope=row>1177</th><td>2002</td><td>bottom trawl</td><td>184024.45</td><td>449690532</td></tr>\n",
       "\t<tr><th scope=row>1199</th><td>2003</td><td>bottom trawl</td><td>177879.16</td><td>422012257</td></tr>\n",
       "\t<tr><th scope=row>1220</th><td>2004</td><td>bottom trawl</td><td>283272.70</td><td>583050836</td></tr>\n",
       "\t<tr><th scope=row>1243</th><td>2005</td><td>bottom trawl</td><td>154617.50</td><td>457865893</td></tr>\n",
       "\t<tr><th scope=row>1265</th><td>2006</td><td>bottom trawl</td><td>115148.90</td><td>412860213</td></tr>\n",
       "\t<tr><th scope=row>1287</th><td>2007</td><td>bottom trawl</td><td> 82096.96</td><td>272372566</td></tr>\n",
       "\t<tr><th scope=row>1310</th><td>2008</td><td>bottom trawl</td><td> 84182.77</td><td>314647412</td></tr>\n",
       "\t<tr><th scope=row>1333</th><td>2009</td><td>bottom trawl</td><td> 96758.20</td><td>303026861</td></tr>\n",
       "\t<tr><th scope=row>1355</th><td>2010</td><td>bottom trawl</td><td>135872.28</td><td>171494328</td></tr>\n",
       "\t<tr><th scope=row>1378</th><td>2011</td><td>bottom trawl</td><td>190413.90</td><td>187836928</td></tr>\n",
       "\t<tr><th scope=row>1401</th><td>2012</td><td>bottom trawl</td><td>131540.09</td><td>161869591</td></tr>\n",
       "\t<tr><th scope=row>1424</th><td>2013</td><td>bottom trawl</td><td> 91494.54</td><td>152665042</td></tr>\n",
       "\t<tr><th scope=row>1446</th><td>2014</td><td>bottom trawl</td><td>113055.98</td><td>176435581</td></tr>\n",
       "\t<tr><th scope=row>1469</th><td>2015</td><td>bottom trawl</td><td> 90909.17</td><td>162297143</td></tr>\n",
       "\t<tr><th scope=row>1491</th><td>2016</td><td>bottom trawl</td><td> 79280.69</td><td>194682717</td></tr>\n",
       "\t<tr><th scope=row>1513</th><td>2017</td><td>bottom trawl</td><td> 90875.83</td><td>134395833</td></tr>\n",
       "\t<tr><th scope=row>1535</th><td>2018</td><td>bottom trawl</td><td>100733.49</td><td>196114055</td></tr>\n",
       "\t<tr><th scope=row>1558</th><td>2019</td><td>bottom trawl</td><td> 88899.20</td><td>116336649</td></tr>\n",
       "</tbody>\n",
       "</table>\n"
      ],
      "text/latex": [
       "A data.frame: 70 × 4\n",
       "\\begin{tabular}{r|llll}\n",
       "  & year & gear\\_type & tonnes & landed\\_value\\\\\n",
       "  & <int> & <chr> & <dbl> & <dbl>\\\\\n",
       "\\hline\n",
       "\t3 & 1950 & bottom trawl &  416010.8 & 538917163\\\\\n",
       "\t26 & 1951 & bottom trawl &  450849.4 & 586264212\\\\\n",
       "\t49 & 1952 & bottom trawl &  426192.9 & 528159119\\\\\n",
       "\t72 & 1953 & bottom trawl &  386871.7 & 445512495\\\\\n",
       "\t95 & 1954 & bottom trawl &  434058.7 & 668991801\\\\\n",
       "\t118 & 1955 & bottom trawl &  437320.5 & 642494355\\\\\n",
       "\t141 & 1956 & bottom trawl &  439806.4 & 601300494\\\\\n",
       "\t164 & 1957 & bottom trawl &  464082.7 & 715416493\\\\\n",
       "\t187 & 1958 & bottom trawl &  448668.3 & 702238516\\\\\n",
       "\t210 & 1959 & bottom trawl &  437739.7 & 718512767\\\\\n",
       "\t233 & 1960 & bottom trawl &  392474.1 & 692032060\\\\\n",
       "\t256 & 1961 & bottom trawl &  452057.8 & 602334904\\\\\n",
       "\t279 & 1962 & bottom trawl &  762251.7 & 787674704\\\\\n",
       "\t302 & 1963 & bottom trawl &  986518.8 & 685923168\\\\\n",
       "\t326 & 1964 & bottom trawl & 1089922.8 & 552389739\\\\\n",
       "\t350 & 1965 & bottom trawl & 1232713.8 & 726246516\\\\\n",
       "\t373 & 1966 & bottom trawl & 1289724.8 & 760192561\\\\\n",
       "\t397 & 1967 & bottom trawl & 1010012.1 & 543851356\\\\\n",
       "\t421 & 1968 & bottom trawl &  998876.4 & 526017529\\\\\n",
       "\t445 & 1969 & bottom trawl & 1236564.0 & 595583481\\\\\n",
       "\t469 & 1970 & bottom trawl &  670956.8 & 585696476\\\\\n",
       "\t492 & 1971 & bottom trawl &  980651.3 & 599282657\\\\\n",
       "\t516 & 1972 & bottom trawl & 1031368.3 & 640073250\\\\\n",
       "\t538 & 1973 & bottom trawl &  979186.6 & 764783665\\\\\n",
       "\t562 & 1974 & bottom trawl &  761933.8 & 628774877\\\\\n",
       "\t586 & 1975 & bottom trawl &  659934.6 & 720155392\\\\\n",
       "\t609 & 1976 & bottom trawl &  499077.1 & 904457197\\\\\n",
       "\t633 & 1977 & bottom trawl &  466805.4 & 755689599\\\\\n",
       "\t656 & 1978 & bottom trawl &  394794.4 & 706281342\\\\\n",
       "\t678 & 1979 & bottom trawl &  418815.9 & 614940267\\\\\n",
       "\t⋮ & ⋮ & ⋮ & ⋮ & ⋮\\\\\n",
       "\t912 & 1990 & bottom trawl & 243662.78 & 502503539\\\\\n",
       "\t933 & 1991 & bottom trawl & 268592.25 & 586241824\\\\\n",
       "\t956 & 1992 & bottom trawl & 273104.72 & 492845222\\\\\n",
       "\t978 & 1993 & bottom trawl & 267783.64 & 454713648\\\\\n",
       "\t1001 & 1994 & bottom trawl & 249121.49 & 456626401\\\\\n",
       "\t1023 & 1995 & bottom trawl & 222176.02 & 444240764\\\\\n",
       "\t1045 & 1996 & bottom trawl & 271818.23 & 411614322\\\\\n",
       "\t1068 & 1997 & bottom trawl & 258579.97 & 398530383\\\\\n",
       "\t1090 & 1998 & bottom trawl & 327094.37 & 422630545\\\\\n",
       "\t1113 & 1999 & bottom trawl & 220036.52 & 483557463\\\\\n",
       "\t1134 & 2000 & bottom trawl & 216611.79 & 472188677\\\\\n",
       "\t1156 & 2001 & bottom trawl & 201517.31 & 514322415\\\\\n",
       "\t1177 & 2002 & bottom trawl & 184024.45 & 449690532\\\\\n",
       "\t1199 & 2003 & bottom trawl & 177879.16 & 422012257\\\\\n",
       "\t1220 & 2004 & bottom trawl & 283272.70 & 583050836\\\\\n",
       "\t1243 & 2005 & bottom trawl & 154617.50 & 457865893\\\\\n",
       "\t1265 & 2006 & bottom trawl & 115148.90 & 412860213\\\\\n",
       "\t1287 & 2007 & bottom trawl &  82096.96 & 272372566\\\\\n",
       "\t1310 & 2008 & bottom trawl &  84182.77 & 314647412\\\\\n",
       "\t1333 & 2009 & bottom trawl &  96758.20 & 303026861\\\\\n",
       "\t1355 & 2010 & bottom trawl & 135872.28 & 171494328\\\\\n",
       "\t1378 & 2011 & bottom trawl & 190413.90 & 187836928\\\\\n",
       "\t1401 & 2012 & bottom trawl & 131540.09 & 161869591\\\\\n",
       "\t1424 & 2013 & bottom trawl &  91494.54 & 152665042\\\\\n",
       "\t1446 & 2014 & bottom trawl & 113055.98 & 176435581\\\\\n",
       "\t1469 & 2015 & bottom trawl &  90909.17 & 162297143\\\\\n",
       "\t1491 & 2016 & bottom trawl &  79280.69 & 194682717\\\\\n",
       "\t1513 & 2017 & bottom trawl &  90875.83 & 134395833\\\\\n",
       "\t1535 & 2018 & bottom trawl & 100733.49 & 196114055\\\\\n",
       "\t1558 & 2019 & bottom trawl &  88899.20 & 116336649\\\\\n",
       "\\end{tabular}\n"
      ],
      "text/markdown": [
       "\n",
       "A data.frame: 70 × 4\n",
       "\n",
       "| <!--/--> | year &lt;int&gt; | gear_type &lt;chr&gt; | tonnes &lt;dbl&gt; | landed_value &lt;dbl&gt; |\n",
       "|---|---|---|---|---|\n",
       "| 3 | 1950 | bottom trawl |  416010.8 | 538917163 |\n",
       "| 26 | 1951 | bottom trawl |  450849.4 | 586264212 |\n",
       "| 49 | 1952 | bottom trawl |  426192.9 | 528159119 |\n",
       "| 72 | 1953 | bottom trawl |  386871.7 | 445512495 |\n",
       "| 95 | 1954 | bottom trawl |  434058.7 | 668991801 |\n",
       "| 118 | 1955 | bottom trawl |  437320.5 | 642494355 |\n",
       "| 141 | 1956 | bottom trawl |  439806.4 | 601300494 |\n",
       "| 164 | 1957 | bottom trawl |  464082.7 | 715416493 |\n",
       "| 187 | 1958 | bottom trawl |  448668.3 | 702238516 |\n",
       "| 210 | 1959 | bottom trawl |  437739.7 | 718512767 |\n",
       "| 233 | 1960 | bottom trawl |  392474.1 | 692032060 |\n",
       "| 256 | 1961 | bottom trawl |  452057.8 | 602334904 |\n",
       "| 279 | 1962 | bottom trawl |  762251.7 | 787674704 |\n",
       "| 302 | 1963 | bottom trawl |  986518.8 | 685923168 |\n",
       "| 326 | 1964 | bottom trawl | 1089922.8 | 552389739 |\n",
       "| 350 | 1965 | bottom trawl | 1232713.8 | 726246516 |\n",
       "| 373 | 1966 | bottom trawl | 1289724.8 | 760192561 |\n",
       "| 397 | 1967 | bottom trawl | 1010012.1 | 543851356 |\n",
       "| 421 | 1968 | bottom trawl |  998876.4 | 526017529 |\n",
       "| 445 | 1969 | bottom trawl | 1236564.0 | 595583481 |\n",
       "| 469 | 1970 | bottom trawl |  670956.8 | 585696476 |\n",
       "| 492 | 1971 | bottom trawl |  980651.3 | 599282657 |\n",
       "| 516 | 1972 | bottom trawl | 1031368.3 | 640073250 |\n",
       "| 538 | 1973 | bottom trawl |  979186.6 | 764783665 |\n",
       "| 562 | 1974 | bottom trawl |  761933.8 | 628774877 |\n",
       "| 586 | 1975 | bottom trawl |  659934.6 | 720155392 |\n",
       "| 609 | 1976 | bottom trawl |  499077.1 | 904457197 |\n",
       "| 633 | 1977 | bottom trawl |  466805.4 | 755689599 |\n",
       "| 656 | 1978 | bottom trawl |  394794.4 | 706281342 |\n",
       "| 678 | 1979 | bottom trawl |  418815.9 | 614940267 |\n",
       "| ⋮ | ⋮ | ⋮ | ⋮ | ⋮ |\n",
       "| 912 | 1990 | bottom trawl | 243662.78 | 502503539 |\n",
       "| 933 | 1991 | bottom trawl | 268592.25 | 586241824 |\n",
       "| 956 | 1992 | bottom trawl | 273104.72 | 492845222 |\n",
       "| 978 | 1993 | bottom trawl | 267783.64 | 454713648 |\n",
       "| 1001 | 1994 | bottom trawl | 249121.49 | 456626401 |\n",
       "| 1023 | 1995 | bottom trawl | 222176.02 | 444240764 |\n",
       "| 1045 | 1996 | bottom trawl | 271818.23 | 411614322 |\n",
       "| 1068 | 1997 | bottom trawl | 258579.97 | 398530383 |\n",
       "| 1090 | 1998 | bottom trawl | 327094.37 | 422630545 |\n",
       "| 1113 | 1999 | bottom trawl | 220036.52 | 483557463 |\n",
       "| 1134 | 2000 | bottom trawl | 216611.79 | 472188677 |\n",
       "| 1156 | 2001 | bottom trawl | 201517.31 | 514322415 |\n",
       "| 1177 | 2002 | bottom trawl | 184024.45 | 449690532 |\n",
       "| 1199 | 2003 | bottom trawl | 177879.16 | 422012257 |\n",
       "| 1220 | 2004 | bottom trawl | 283272.70 | 583050836 |\n",
       "| 1243 | 2005 | bottom trawl | 154617.50 | 457865893 |\n",
       "| 1265 | 2006 | bottom trawl | 115148.90 | 412860213 |\n",
       "| 1287 | 2007 | bottom trawl |  82096.96 | 272372566 |\n",
       "| 1310 | 2008 | bottom trawl |  84182.77 | 314647412 |\n",
       "| 1333 | 2009 | bottom trawl |  96758.20 | 303026861 |\n",
       "| 1355 | 2010 | bottom trawl | 135872.28 | 171494328 |\n",
       "| 1378 | 2011 | bottom trawl | 190413.90 | 187836928 |\n",
       "| 1401 | 2012 | bottom trawl | 131540.09 | 161869591 |\n",
       "| 1424 | 2013 | bottom trawl |  91494.54 | 152665042 |\n",
       "| 1446 | 2014 | bottom trawl | 113055.98 | 176435581 |\n",
       "| 1469 | 2015 | bottom trawl |  90909.17 | 162297143 |\n",
       "| 1491 | 2016 | bottom trawl |  79280.69 | 194682717 |\n",
       "| 1513 | 2017 | bottom trawl |  90875.83 | 134395833 |\n",
       "| 1535 | 2018 | bottom trawl | 100733.49 | 196114055 |\n",
       "| 1558 | 2019 | bottom trawl |  88899.20 | 116336649 |\n",
       "\n"
      ],
      "text/plain": [
       "     year gear_type    tonnes    landed_value\n",
       "3    1950 bottom trawl  416010.8 538917163   \n",
       "26   1951 bottom trawl  450849.4 586264212   \n",
       "49   1952 bottom trawl  426192.9 528159119   \n",
       "72   1953 bottom trawl  386871.7 445512495   \n",
       "95   1954 bottom trawl  434058.7 668991801   \n",
       "118  1955 bottom trawl  437320.5 642494355   \n",
       "141  1956 bottom trawl  439806.4 601300494   \n",
       "164  1957 bottom trawl  464082.7 715416493   \n",
       "187  1958 bottom trawl  448668.3 702238516   \n",
       "210  1959 bottom trawl  437739.7 718512767   \n",
       "233  1960 bottom trawl  392474.1 692032060   \n",
       "256  1961 bottom trawl  452057.8 602334904   \n",
       "279  1962 bottom trawl  762251.7 787674704   \n",
       "302  1963 bottom trawl  986518.8 685923168   \n",
       "326  1964 bottom trawl 1089922.8 552389739   \n",
       "350  1965 bottom trawl 1232713.8 726246516   \n",
       "373  1966 bottom trawl 1289724.8 760192561   \n",
       "397  1967 bottom trawl 1010012.1 543851356   \n",
       "421  1968 bottom trawl  998876.4 526017529   \n",
       "445  1969 bottom trawl 1236564.0 595583481   \n",
       "469  1970 bottom trawl  670956.8 585696476   \n",
       "492  1971 bottom trawl  980651.3 599282657   \n",
       "516  1972 bottom trawl 1031368.3 640073250   \n",
       "538  1973 bottom trawl  979186.6 764783665   \n",
       "562  1974 bottom trawl  761933.8 628774877   \n",
       "586  1975 bottom trawl  659934.6 720155392   \n",
       "609  1976 bottom trawl  499077.1 904457197   \n",
       "633  1977 bottom trawl  466805.4 755689599   \n",
       "656  1978 bottom trawl  394794.4 706281342   \n",
       "678  1979 bottom trawl  418815.9 614940267   \n",
       "⋮    ⋮    ⋮            ⋮         ⋮           \n",
       "912  1990 bottom trawl 243662.78 502503539   \n",
       "933  1991 bottom trawl 268592.25 586241824   \n",
       "956  1992 bottom trawl 273104.72 492845222   \n",
       "978  1993 bottom trawl 267783.64 454713648   \n",
       "1001 1994 bottom trawl 249121.49 456626401   \n",
       "1023 1995 bottom trawl 222176.02 444240764   \n",
       "1045 1996 bottom trawl 271818.23 411614322   \n",
       "1068 1997 bottom trawl 258579.97 398530383   \n",
       "1090 1998 bottom trawl 327094.37 422630545   \n",
       "1113 1999 bottom trawl 220036.52 483557463   \n",
       "1134 2000 bottom trawl 216611.79 472188677   \n",
       "1156 2001 bottom trawl 201517.31 514322415   \n",
       "1177 2002 bottom trawl 184024.45 449690532   \n",
       "1199 2003 bottom trawl 177879.16 422012257   \n",
       "1220 2004 bottom trawl 283272.70 583050836   \n",
       "1243 2005 bottom trawl 154617.50 457865893   \n",
       "1265 2006 bottom trawl 115148.90 412860213   \n",
       "1287 2007 bottom trawl  82096.96 272372566   \n",
       "1310 2008 bottom trawl  84182.77 314647412   \n",
       "1333 2009 bottom trawl  96758.20 303026861   \n",
       "1355 2010 bottom trawl 135872.28 171494328   \n",
       "1378 2011 bottom trawl 190413.90 187836928   \n",
       "1401 2012 bottom trawl 131540.09 161869591   \n",
       "1424 2013 bottom trawl  91494.54 152665042   \n",
       "1446 2014 bottom trawl 113055.98 176435581   \n",
       "1469 2015 bottom trawl  90909.17 162297143   \n",
       "1491 2016 bottom trawl  79280.69 194682717   \n",
       "1513 2017 bottom trawl  90875.83 134395833   \n",
       "1535 2018 bottom trawl 100733.49 196114055   \n",
       "1558 2019 bottom trawl  88899.20 116336649   "
      ]
     },
     "metadata": {},
     "output_type": "display_data"
    }
   ],
   "source": [
    "subset(df, gear_type == 'bottom trawl')"
   ]
  },
  {
   "cell_type": "code",
   "execution_count": 22,
   "id": "99c838cd",
   "metadata": {},
   "outputs": [
    {
     "data": {
      "image/png": "[encoded data removed]",
      "text/plain": [
       "plot without title"
      ]
     },
     "metadata": {
      "image/png": {
       "height": 420,
       "width": 420
      }
     },
     "output_type": "display_data"
    }
   ],
   "source": [
    "ggplot(subset(df, gear_type == 'bottom trawl'), aes(x=year, y=tonnes)) +\n",
    "  geom_col()"
   ]
  },
  {
   "cell_type": "code",
   "execution_count": 23,
   "id": "43422418",
   "metadata": {},
   "outputs": [
    {
     "data": {
      "text/html": [
       "415197.568343814"
      ],
      "text/latex": [
       "415197.568343814"
      ],
      "text/markdown": [
       "415197.568343814"
      ],
      "text/plain": [
       "[1] 415197.6"
      ]
     },
     "metadata": {},
     "output_type": "display_data"
    }
   ],
   "source": [
    "mean(df$tonnes[df$gear_type == 'bottom trawl'])"
   ]
  },
  {
   "cell_type": "code",
   "execution_count": 24,
   "id": "e9db30ee",
   "metadata": {
    "scrolled": true
   },
   "outputs": [
    {
     "data": {
      "text/html": [
       "<style>\n",
       ".dl-inline {width: auto; margin:0; padding: 0}\n",
       ".dl-inline>dt, .dl-inline>dd {float: none; width: auto; display: inline-block}\n",
       ".dl-inline>dt::after {content: \":\\0020\"; padding-right: .5ex}\n",
       ".dl-inline>dt:not(:first-of-type) {padding-left: .5ex}\n",
       "</style><dl class=dl-inline><dt>0%</dt><dd>79280.6860252941</dd><dt>25%</dt><dd>205290.928234626</dd><dt>50%</dt><dd>330150.865647341</dd><dt>75%</dt><dd>451755.690399803</dd><dt>100%</dt><dd>1289724.81047876</dd></dl>\n"
      ],
      "text/latex": [
       "\\begin{description*}\n",
       "\\item[0\\textbackslash{}\\%] 79280.6860252941\n",
       "\\item[25\\textbackslash{}\\%] 205290.928234626\n",
       "\\item[50\\textbackslash{}\\%] 330150.865647341\n",
       "\\item[75\\textbackslash{}\\%] 451755.690399803\n",
       "\\item[100\\textbackslash{}\\%] 1289724.81047876\n",
       "\\end{description*}\n"
      ],
      "text/markdown": [
       "0%\n",
       ":   79280.686025294125%\n",
       ":   205290.92823462650%\n",
       ":   330150.86564734175%\n",
       ":   451755.690399803100%\n",
       ":   1289724.81047876\n",
       "\n"
      ],
      "text/plain": [
       "        0%        25%        50%        75%       100% \n",
       "  79280.69  205290.93  330150.87  451755.69 1289724.81 "
      ]
     },
     "metadata": {},
     "output_type": "display_data"
    }
   ],
   "source": [
    "quantile(df$tonnes[df$gear_type == \"bottom trawl\"])"
   ]
  },
  {
   "cell_type": "markdown",
   "id": "507b3fb2",
   "metadata": {},
   "source": [
    "Statistical model:\n",
    "$$tonnes \\sim \\mathcal{N}(MEAN, STDDEV)$$"
   ]
  },
  {
   "cell_type": "code",
   "execution_count": 25,
   "id": "af3fe3ce",
   "metadata": {
    "scrolled": true
   },
   "outputs": [
    {
     "data": {
      "text/html": [
       "318485.223031723"
      ],
      "text/latex": [
       "318485.223031723"
      ],
      "text/markdown": [
       "318485.223031723"
      ],
      "text/plain": [
       "[1] 318485.2"
      ]
     },
     "metadata": {},
     "output_type": "display_data"
    }
   ],
   "source": [
    "sd(df$tonnes[df$gear_type == 'bottom trawl'])"
   ]
  },
  {
   "cell_type": "code",
   "execution_count": 26,
   "id": "553dcd61",
   "metadata": {},
   "outputs": [],
   "source": [
    "faketonnes = rnorm(1000, 415197.568343814, 318485.223031723)"
   ]
  },
  {
   "cell_type": "code",
   "execution_count": 27,
   "id": "20f45dd3",
   "metadata": {
    "scrolled": true
   },
   "outputs": [
    {
     "name": "stderr",
     "output_type": "stream",
     "text": [
      "\u001b[1m\u001b[22m`stat_bin()` using `bins = 30`. Pick better value with `binwidth`.\n"
     ]
    },
    {
     "data": {
      "image/png": "[encoded data removed]",
      "text/plain": [
       "plot without title"
      ]
     },
     "metadata": {
      "image/png": {
       "height": 420,
       "width": 420
      }
     },
     "output_type": "display_data"
    }
   ],
   "source": [
    "ggplot(data.frame(tonnes=faketonnes), aes(x=tonnes)) +\n",
    "  geom_histogram()"
   ]
  },
  {
   "cell_type": "code",
   "execution_count": 29,
   "id": "3ab475cc",
   "metadata": {},
   "outputs": [
    {
     "name": "stderr",
     "output_type": "stream",
     "text": [
      "\u001b[1m\u001b[22m`stat_bin()` using `bins = 30`. Pick better value with `binwidth`.\n"
     ]
    },
    {
     "data": {
      "image/png": "[encoded data removed]",
      "text/plain": [
       "plot without title"
      ]
     },
     "metadata": {
      "image/png": {
       "height": 420,
       "width": 420
      }
     },
     "output_type": "display_data"
    }
   ],
   "source": [
    "ggplot(subset(df, gear_type == 'bottom trawl'), aes(x=tonnes)) +\n",
    "  geom_histogram()"
   ]
  },
  {
   "cell_type": "code",
   "execution_count": 30,
   "id": "2ff81ee4",
   "metadata": {},
   "outputs": [],
   "source": [
    "pdf1 = data.frame(type='real', tonnes=df$tonnes[df$gear_type == 'bottom trawl'])"
   ]
  },
  {
   "cell_type": "code",
   "execution_count": 31,
   "id": "176209b2",
   "metadata": {},
   "outputs": [],
   "source": [
    "pdf2 = data.frame(type='fake', tonnes=faketonnes)"
   ]
  },
  {
   "cell_type": "code",
   "execution_count": 32,
   "id": "fc7f12a7",
   "metadata": {},
   "outputs": [],
   "source": [
    "pdf = rbind(pdf1, pdf2)"
   ]
  },
  {
   "cell_type": "code",
   "execution_count": 33,
   "id": "f1b2cde9",
   "metadata": {},
   "outputs": [
    {
     "data": {
      "text/html": [
       "<table class=\"dataframe\">\n",
       "<caption>A data.frame: 6 × 2</caption>\n",
       "<thead>\n",
       "\t<tr><th></th><th scope=col>type</th><th scope=col>tonnes</th></tr>\n",
       "\t<tr><th></th><th scope=col>&lt;chr&gt;</th><th scope=col>&lt;dbl&gt;</th></tr>\n",
       "</thead>\n",
       "<tbody>\n",
       "\t<tr><th scope=row>1065</th><td>fake</td><td> 398894.17</td></tr>\n",
       "\t<tr><th scope=row>1066</th><td>fake</td><td>  99498.42</td></tr>\n",
       "\t<tr><th scope=row>1067</th><td>fake</td><td>-288173.74</td></tr>\n",
       "\t<tr><th scope=row>1068</th><td>fake</td><td> 679354.62</td></tr>\n",
       "\t<tr><th scope=row>1069</th><td>fake</td><td> 802781.22</td></tr>\n",
       "\t<tr><th scope=row>1070</th><td>fake</td><td> -39685.80</td></tr>\n",
       "</tbody>\n",
       "</table>\n"
      ],
      "text/latex": [
       "A data.frame: 6 × 2\n",
       "\\begin{tabular}{r|ll}\n",
       "  & type & tonnes\\\\\n",
       "  & <chr> & <dbl>\\\\\n",
       "\\hline\n",
       "\t1065 & fake &  398894.17\\\\\n",
       "\t1066 & fake &   99498.42\\\\\n",
       "\t1067 & fake & -288173.74\\\\\n",
       "\t1068 & fake &  679354.62\\\\\n",
       "\t1069 & fake &  802781.22\\\\\n",
       "\t1070 & fake &  -39685.80\\\\\n",
       "\\end{tabular}\n"
      ],
      "text/markdown": [
       "\n",
       "A data.frame: 6 × 2\n",
       "\n",
       "| <!--/--> | type &lt;chr&gt; | tonnes &lt;dbl&gt; |\n",
       "|---|---|---|\n",
       "| 1065 | fake |  398894.17 |\n",
       "| 1066 | fake |   99498.42 |\n",
       "| 1067 | fake | -288173.74 |\n",
       "| 1068 | fake |  679354.62 |\n",
       "| 1069 | fake |  802781.22 |\n",
       "| 1070 | fake |  -39685.80 |\n",
       "\n"
      ],
      "text/plain": [
       "     type tonnes    \n",
       "1065 fake  398894.17\n",
       "1066 fake   99498.42\n",
       "1067 fake -288173.74\n",
       "1068 fake  679354.62\n",
       "1069 fake  802781.22\n",
       "1070 fake  -39685.80"
      ]
     },
     "metadata": {},
     "output_type": "display_data"
    }
   ],
   "source": [
    "tail(pdf)"
   ]
  },
  {
   "cell_type": "code",
   "execution_count": 34,
   "id": "e7afc9d3",
   "metadata": {},
   "outputs": [
    {
     "data": {
      "image/png": "[encoded data removed]",
      "text/plain": [
       "plot without title"
      ]
     },
     "metadata": {
      "image/png": {
       "height": 420,
       "width": 420
      }
     },
     "output_type": "display_data"
    }
   ],
   "source": [
    "ggplot(pdf, aes(x=tonnes, colour=type)) +\n",
    "  geom_density()"
   ]
  },
  {
   "cell_type": "markdown",
   "id": "c514c14b",
   "metadata": {},
   "source": [
    "Statistical model:\n",
    "$$log(tonnes) \\sim \\mathcal{N}(MEAN, STDDEV)$$"
   ]
  },
  {
   "cell_type": "code",
   "execution_count": 35,
   "id": "f501768c",
   "metadata": {},
   "outputs": [
    {
     "data": {
      "text/html": [
       "12.661429700571"
      ],
      "text/latex": [
       "12.661429700571"
      ],
      "text/markdown": [
       "12.661429700571"
      ],
      "text/plain": [
       "[1] 12.66143"
      ]
     },
     "metadata": {},
     "output_type": "display_data"
    }
   ],
   "source": [
    "mean(log(df$tonnes[df$gear_type == 'bottom trawl']))"
   ]
  },
  {
   "cell_type": "code",
   "execution_count": 36,
   "id": "6c13f9e5",
   "metadata": {},
   "outputs": [
    {
     "data": {
      "text/html": [
       "0.761876733242941"
      ],
      "text/latex": [
       "0.761876733242941"
      ],
      "text/markdown": [
       "0.761876733242941"
      ],
      "text/plain": [
       "[1] 0.7618767"
      ]
     },
     "metadata": {},
     "output_type": "display_data"
    }
   ],
   "source": [
    "sd(log(df$tonnes[df$gear_type == 'bottom trawl']))"
   ]
  },
  {
   "cell_type": "code",
   "execution_count": 37,
   "id": "1fc1298f",
   "metadata": {},
   "outputs": [],
   "source": [
    "faketonnes = exp(rnorm(1000, 12.661429700571, 0.761876733242941))"
   ]
  },
  {
   "cell_type": "code",
   "execution_count": 38,
   "id": "0a0f5a9e",
   "metadata": {},
   "outputs": [],
   "source": [
    "pdf2 = data.frame(type='fake', tonnes=faketonnes)"
   ]
  },
  {
   "cell_type": "code",
   "execution_count": 39,
   "id": "1f2e30b9",
   "metadata": {},
   "outputs": [],
   "source": [
    "pdf = rbind(pdf1, pdf2)"
   ]
  },
  {
   "cell_type": "code",
   "execution_count": 40,
   "id": "bffc8d35",
   "metadata": {},
   "outputs": [
    {
     "data": {
      "image/png": "[encoded data removed]",
      "text/plain": [
       "plot without title"
      ]
     },
     "metadata": {
      "image/png": {
       "height": 420,
       "width": 420
      }
     },
     "output_type": "display_data"
    }
   ],
   "source": [
    "ggplot(pdf, aes(x=tonnes, colour=type)) +\n",
    "  geom_density()"
   ]
  },
  {
   "cell_type": "markdown",
   "id": "f57b7afb",
   "metadata": {},
   "source": [
    "Question 3: Is bottom trawling declining?"
   ]
  },
  {
   "cell_type": "code",
   "execution_count": 41,
   "id": "e882cbb2",
   "metadata": {},
   "outputs": [
    {
     "data": {
      "image/png": "[encoded data removed]",
      "text/plain": [
       "plot without title"
      ]
     },
     "metadata": {
      "image/png": {
       "height": 420,
       "width": 420
      }
     },
     "output_type": "display_data"
    }
   ],
   "source": [
    "ggplot(subset(df, gear_type == 'bottom trawl'), aes(x=year, y=tonnes)) +\n",
    "  geom_col()"
   ]
  },
  {
   "cell_type": "markdown",
   "id": "99c470b2",
   "metadata": {},
   "source": [
    "Statistical model:\n",
    "$$tonnes \\sim \\mathcal{N}(INTERCEPT + SLOPE \\cdot year, STDDEV)$$"
   ]
  },
  {
   "cell_type": "code",
   "execution_count": 42,
   "id": "97ac2d6c",
   "metadata": {},
   "outputs": [
    {
     "data": {
      "text/plain": [
       "\n",
       "Call:\n",
       "lm(formula = tonnes ~ 1 + year, data = subset(df, gear_type == \n",
       "    \"bottom trawl\"))\n",
       "\n",
       "Coefficients:\n",
       "(Intercept)         year  \n",
       "   21119880       -10433  \n"
      ]
     },
     "metadata": {},
     "output_type": "display_data"
    }
   ],
   "source": [
    "lm(tonnes ~ 1 + year, subset(df, gear_type == 'bottom trawl'))"
   ]
  },
  {
   "cell_type": "code",
   "execution_count": 43,
   "id": "02ea70b1",
   "metadata": {},
   "outputs": [
    {
     "data": {
      "text/plain": [
       "\n",
       "Call:\n",
       "lm(formula = tonnes ~ 1 + year, data = subset(df, gear_type == \n",
       "    \"bottom trawl\"))\n",
       "\n",
       "Residuals:\n",
       "    Min      1Q  Median      3Q     Max \n",
       "-359132 -111372  -47646   34698  681513 \n",
       "\n",
       "Coefficients:\n",
       "            Estimate Std. Error t value Pr(>|t|)    \n",
       "(Intercept) 21119880    2807236   7.523 1.61e-10 ***\n",
       "year          -10433       1414  -7.376 2.97e-10 ***\n",
       "---\n",
       "Signif. codes:  0 ‘***’ 0.001 ‘**’ 0.01 ‘*’ 0.05 ‘.’ 0.1 ‘ ’ 1\n",
       "\n",
       "Residual standard error: 239100 on 68 degrees of freedom\n",
       "Multiple R-squared:  0.4445,\tAdjusted R-squared:  0.4363 \n",
       "F-statistic:  54.4 on 1 and 68 DF,  p-value: 2.972e-10\n"
      ]
     },
     "metadata": {},
     "output_type": "display_data"
    }
   ],
   "source": [
    "summary(lm(tonnes ~ 1 + year, subset(df, gear_type == 'bottom trawl')))"
   ]
  },
  {
   "cell_type": "code",
   "execution_count": 44,
   "id": "1244ed4d",
   "metadata": {},
   "outputs": [
    {
     "data": {
      "image/png": "[encoded data removed]",
      "text/plain": [
       "plot without title"
      ]
     },
     "metadata": {
      "image/png": {
       "height": 420,
       "width": 420
      }
     },
     "output_type": "display_data"
    }
   ],
   "source": [
    "ggplot(subset(df, gear_type == 'bottom trawl'), aes(x=year, y=tonnes)) +\n",
    "  geom_col() + geom_abline(intercept=21119880, slope=-10433)"
   ]
  },
  {
   "cell_type": "markdown",
   "id": "f2650dfa",
   "metadata": {},
   "source": [
    "Statistical model:\n",
    "$$log(tonnes) \\sim \\mathcal{N}(INTERCEPT + SLOPE \\cdot year, STDDEV)$$"
   ]
  },
  {
   "cell_type": "code",
   "execution_count": 45,
   "id": "a246a98b",
   "metadata": {},
   "outputs": [
    {
     "data": {
      "text/plain": [
       "\n",
       "Call:\n",
       "lm(formula = log(tonnes) ~ 1 + year, data = subset(df, gear_type == \n",
       "    \"bottom trawl\"))\n",
       "\n",
       "Residuals:\n",
       "     Min       1Q   Median       3Q      Max \n",
       "-0.79299 -0.32993  0.00269  0.19390  0.88568 \n",
       "\n",
       "Coefficients:\n",
       "             Estimate Std. Error t value Pr(>|t|)    \n",
       "(Intercept) 74.211344   5.045741   14.71   <2e-16 ***\n",
       "year        -0.031015   0.002542  -12.20   <2e-16 ***\n",
       "---\n",
       "Signif. codes:  0 ‘***’ 0.001 ‘**’ 0.01 ‘*’ 0.05 ‘.’ 0.1 ‘ ’ 1\n",
       "\n",
       "Residual standard error: 0.4298 on 68 degrees of freedom\n",
       "Multiple R-squared:  0.6864,\tAdjusted R-squared:  0.6818 \n",
       "F-statistic: 148.8 on 1 and 68 DF,  p-value: < 2.2e-16\n"
      ]
     },
     "metadata": {},
     "output_type": "display_data"
    }
   ],
   "source": [
    "summary(lm(log(tonnes) ~ 1 + year, subset(df, gear_type == 'bottom trawl')))"
   ]
  },
  {
   "cell_type": "code",
   "execution_count": 46,
   "id": "4ca961e6",
   "metadata": {},
   "outputs": [],
   "source": [
    "df$predicted = exp(74.211344 - 0.031015*df$year)"
   ]
  },
  {
   "cell_type": "code",
   "execution_count": 47,
   "id": "c9e3ca1e",
   "metadata": {},
   "outputs": [
    {
     "data": {
      "image/png": "[encoded data removed]",
      "text/plain": [
       "plot without title"
      ]
     },
     "metadata": {
      "image/png": {
       "height": 420,
       "width": 420
      }
     },
     "output_type": "display_data"
    }
   ],
   "source": [
    "ggplot(subset(df, gear_type == 'bottom trawl'), aes(x=year, y=tonnes)) +\n",
    "  geom_col() + geom_line(aes(y=predicted))"
   ]
  },
  {
   "cell_type": "code",
   "execution_count": null,
   "id": "748feb69",
   "metadata": {},
   "outputs": [],
   "source": []
  }
 ],
 "metadata": {
  "kernelspec": {
   "display_name": "R",
   "language": "R",
   "name": "ir"
  },
  "language_info": {
   "codemirror_mode": "r",
   "file_extension": ".r",
   "mimetype": "text/x-r-source",
   "name": "R",
   "pygments_lexer": "r",
   "version": "4.1.1"
  }
 },
 "nbformat": 4,
 "nbformat_minor": 5
}
