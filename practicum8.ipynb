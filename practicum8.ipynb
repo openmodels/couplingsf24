{
 "cells": [
  {
   "attachments": {},
   "cell_type": "markdown",
   "id": "be0545fa",
   "metadata": {},
   "source": [
    "We're going to do some statistical analysis of catch data from the US East Coast. You can grab the data from\n",
    "https://www.seaaroundus.org/data/#/eez/851\n",
    "or from the github repository."
   ]
  },
  {
   "cell_type": "code",
   "execution_count": null,
   "id": "5f8a971a",
   "metadata": {},
   "outputs": [],
   "source": [
    "df = read.csv(\"SAU EEZ 851 v50-1.csv\")"
   ]
  },
  {
   "cell_type": "code",
   "execution_count": null,
   "id": "a388721d",
   "metadata": {},
   "outputs": [],
   "source": [
    "tail(df)"
   ]
  },
  {
   "cell_type": "code",
   "execution_count": null,
   "id": "4d877794",
   "metadata": {},
   "outputs": [],
   "source": [
    "library(dplyr)\n",
    "df2 = df %>% group_by(year, gear_type) %>% summarize(tonnes=sum(tonnes), landed_value=sum(landed_value, na.rm=T))\n",
    "write.csv(df2, \"SAU EEZ 851 v50-1-gearyear.csv\", row.names=F)"
   ]
  },
  {
   "cell_type": "code",
   "execution_count": null,
   "id": "1101aa06",
   "metadata": {},
   "outputs": [],
   "source": [
    "df = read.csv(\"SAU EEZ 851 v50-1-gearyear.csv\")"
   ]
  },
  {
   "cell_type": "code",
   "execution_count": null,
   "id": "d71a9160",
   "metadata": {},
   "outputs": [],
   "source": [
    "head(df)"
   ]
  },
  {
   "cell_type": "code",
   "execution_count": null,
   "id": "da36be7c",
   "metadata": {},
   "outputs": [],
   "source": [
    "unique(df$gear_type)"
   ]
  },
  {
   "cell_type": "code",
   "execution_count": null,
   "id": "172e4a96",
   "metadata": {},
   "outputs": [],
   "source": [
    "library(ggplot2)"
   ]
  },
  {
   "cell_type": "code",
   "execution_count": null,
   "id": "04df3ea0",
   "metadata": {},
   "outputs": [],
   "source": [
    "ggplot(df, aes(x=year, y=tonnes)) +\n",
    "  geom_col()"
   ]
  },
  {
   "cell_type": "code",
   "execution_count": null,
   "id": "e3e3dfeb",
   "metadata": {},
   "outputs": [],
   "source": [
    "ggplot(df, aes(x=year, y=tonnes, fill=gear_type)) +\n",
    "  geom_col()"
   ]
  },
  {
   "cell_type": "markdown",
   "id": "eddd14b5",
   "metadata": {},
   "source": [
    "Question 1: What is the tonnage caught with a particular gear in a given year?"
   ]
  },
  {
   "cell_type": "code",
   "execution_count": null,
   "id": "68065019",
   "metadata": {},
   "outputs": [],
   "source": [
    "df[df$year == 2000,]$tonnes"
   ]
  },
  {
   "cell_type": "code",
   "execution_count": null,
   "id": "766d6f56",
   "metadata": {
    "scrolled": true
   },
   "outputs": [],
   "source": [
    "df$tonnes[df$year == 2000]"
   ]
  },
  {
   "cell_type": "code",
   "execution_count": null,
   "id": "400f4ee9",
   "metadata": {},
   "outputs": [],
   "source": [
    "head(df)"
   ]
  },
  {
   "cell_type": "code",
   "execution_count": null,
   "id": "d260a896",
   "metadata": {},
   "outputs": [],
   "source": [
    "head(df)$gear_type == 'bagnets'"
   ]
  },
  {
   "cell_type": "code",
   "execution_count": null,
   "id": "3cab4e2f",
   "metadata": {
    "scrolled": false
   },
   "outputs": [],
   "source": [
    "sum(df$tonnes[df$year == 2000])"
   ]
  },
  {
   "cell_type": "code",
   "execution_count": null,
   "id": "909713b4",
   "metadata": {},
   "outputs": [],
   "source": [
    "sum(df$tonnes[df$gear_type == 'bottom trawl'])"
   ]
  },
  {
   "cell_type": "code",
   "execution_count": null,
   "id": "4efeb749",
   "metadata": {},
   "outputs": [],
   "source": [
    "df$tonnes[df$year == 2000 & df$gear_type == 'bottom trawl']"
   ]
  },
  {
   "cell_type": "code",
   "execution_count": null,
   "id": "d326ed73",
   "metadata": {},
   "outputs": [],
   "source": [
    "subset(df, year == 2000 & gear_type == \"bottom trawl\")"
   ]
  },
  {
   "cell_type": "markdown",
   "id": "26f0a1e3",
   "metadata": {},
   "source": [
    "Question 2: What is the average value for a given gear type?"
   ]
  },
  {
   "cell_type": "code",
   "execution_count": null,
   "id": "88548542",
   "metadata": {},
   "outputs": [],
   "source": [
    "subset(df, gear_type == 'bottom trawl')"
   ]
  },
  {
   "cell_type": "code",
   "execution_count": null,
   "id": "99c838cd",
   "metadata": {},
   "outputs": [],
   "source": [
    "ggplot(subset(df, gear_type == 'bottom trawl'), aes(x=year, y=tonnes)) +\n",
    "  geom_col()"
   ]
  },
  {
   "cell_type": "code",
   "execution_count": null,
   "id": "88e64a61",
   "metadata": {},
   "outputs": [],
   "source": [
    "ggplot(subset(df, gear_type == 'bottom trawl'), aes(x=tonnes)) +\n",
    "  geom_histogram()"
   ]
  },
  {
   "cell_type": "code",
   "execution_count": null,
   "id": "43422418",
   "metadata": {},
   "outputs": [],
   "source": [
    "mean(df$tonnes[df$gear_type == 'bottom trawl'])"
   ]
  },
  {
   "cell_type": "code",
   "execution_count": null,
   "id": "e9db30ee",
   "metadata": {
    "scrolled": true
   },
   "outputs": [],
   "source": [
    "quantile(df$tonnes[df$gear_type == \"bottom trawl\"])"
   ]
  },
  {
   "cell_type": "markdown",
   "id": "507b3fb2",
   "metadata": {},
   "source": [
    "Statistical model:\n",
    "$$tonnes \\sim \\mathcal{N}(MEAN, STDDEV)$$"
   ]
  },
  {
   "cell_type": "code",
   "execution_count": null,
   "id": "af3fe3ce",
   "metadata": {
    "scrolled": true
   },
   "outputs": [],
   "source": [
    "sd(df$tonnes[df$gear_type == 'bottom trawl'])"
   ]
  },
  {
   "cell_type": "code",
   "execution_count": null,
   "id": "553dcd61",
   "metadata": {},
   "outputs": [],
   "source": [
    "faketonnes = rnorm(1000, 415197.568343814, 318485.223031723)"
   ]
  },
  {
   "cell_type": "code",
   "execution_count": null,
   "id": "20f45dd3",
   "metadata": {
    "scrolled": true
   },
   "outputs": [],
   "source": [
    "ggplot(data.frame(tonnes=faketonnes), aes(x=tonnes)) +\n",
    "  geom_histogram()"
   ]
  },
  {
   "cell_type": "code",
   "execution_count": null,
   "id": "2ff81ee4",
   "metadata": {},
   "outputs": [],
   "source": [
    "pdf1 = data.frame(type='real', tonnes=df$tonnes[df$gear_type == 'bottom trawl'])"
   ]
  },
  {
   "cell_type": "code",
   "execution_count": null,
   "id": "176209b2",
   "metadata": {},
   "outputs": [],
   "source": [
    "pdf2 = data.frame(type='fake', tonnes=faketonnes)"
   ]
  },
  {
   "cell_type": "code",
   "execution_count": null,
   "id": "fc7f12a7",
   "metadata": {},
   "outputs": [],
   "source": [
    "pdf = rbind(pdf1, pdf2)"
   ]
  },
  {
   "cell_type": "code",
   "execution_count": null,
   "id": "f1b2cde9",
   "metadata": {},
   "outputs": [],
   "source": [
    "tail(pdf)"
   ]
  },
  {
   "cell_type": "code",
   "execution_count": null,
   "id": "e7afc9d3",
   "metadata": {},
   "outputs": [],
   "source": [
    "ggplot(pdf, aes(x=tonnes, colour=type)) +\n",
    "  geom_density()"
   ]
  },
  {
   "cell_type": "markdown",
   "id": "c514c14b",
   "metadata": {},
   "source": [
    "Statistical model:\n",
    "$$log(tonnes) \\sim \\mathcal{N}(MEAN, STDDEV)$$"
   ]
  },
  {
   "cell_type": "code",
   "execution_count": null,
   "id": "f501768c",
   "metadata": {},
   "outputs": [],
   "source": [
    "mean(log(df$tonnes[df$gear_type == 'bottom trawl']))"
   ]
  },
  {
   "cell_type": "code",
   "execution_count": null,
   "id": "6c13f9e5",
   "metadata": {},
   "outputs": [],
   "source": [
    "sd(log(df$tonnes[df$gear_type == 'bottom trawl']))"
   ]
  },
  {
   "cell_type": "code",
   "execution_count": null,
   "id": "1fc1298f",
   "metadata": {},
   "outputs": [],
   "source": [
    "faketonnes = exp(rnorm(1000, 12.661429700571, 0.761876733242941))"
   ]
  },
  {
   "cell_type": "code",
   "execution_count": null,
   "id": "0a0f5a9e",
   "metadata": {},
   "outputs": [],
   "source": [
    "pdf2 = data.frame(type='fake', tonnes=faketonnes)"
   ]
  },
  {
   "cell_type": "code",
   "execution_count": null,
   "id": "1f2e30b9",
   "metadata": {},
   "outputs": [],
   "source": [
    "pdf = rbind(pdf1, pdf2)"
   ]
  },
  {
   "cell_type": "code",
   "execution_count": null,
   "id": "bffc8d35",
   "metadata": {},
   "outputs": [],
   "source": [
    "ggplot(pdf, aes(x=tonnes, colour=type)) +\n",
    "  geom_density()"
   ]
  },
  {
   "cell_type": "markdown",
   "id": "f57b7afb",
   "metadata": {},
   "source": [
    "Question 3: Is bottom trawling declining?"
   ]
  },
  {
   "cell_type": "code",
   "execution_count": null,
   "id": "e882cbb2",
   "metadata": {},
   "outputs": [],
   "source": [
    "ggplot(subset(df, gear_type == 'bottom trawl'), aes(x=year, y=tonnes)) +\n",
    "  geom_col()"
   ]
  },
  {
   "cell_type": "markdown",
   "id": "99c470b2",
   "metadata": {},
   "source": [
    "Statistical model:\n",
    "$$tonnes \\sim \\mathcal{N}(INTERCEPT + SLOPE \\cdot year, STDDEV)$$"
   ]
  },
  {
   "cell_type": "code",
   "execution_count": null,
   "id": "97ac2d6c",
   "metadata": {},
   "outputs": [],
   "source": [
    "lm(tonnes ~ 1 + year, subset(df, gear_type == 'bottom trawl'))"
   ]
  },
  {
   "cell_type": "code",
   "execution_count": null,
   "id": "02ea70b1",
   "metadata": {},
   "outputs": [],
   "source": [
    "summary(lm(tonnes ~ 1 + year, subset(df, gear_type == 'bottom trawl')))"
   ]
  },
  {
   "cell_type": "code",
   "execution_count": null,
   "id": "1244ed4d",
   "metadata": {},
   "outputs": [],
   "source": [
    "ggplot(subset(df, gear_type == 'bottom trawl'), aes(x=year, y=tonnes)) +\n",
    "  geom_col() + geom_abline(intercept=21119880, slope=-10433)"
   ]
  },
  {
   "cell_type": "markdown",
   "id": "f2650dfa",
   "metadata": {},
   "source": [
    "Statistical model:\n",
    "$$log(tonnes) \\sim \\mathcal{N}(INTERCEPT + SLOPE \\cdot year, STDDEV)$$"
   ]
  },
  {
   "cell_type": "code",
   "execution_count": null,
   "id": "a246a98b",
   "metadata": {},
   "outputs": [],
   "source": [
    "summary(lm(log(tonnes) ~ 1 + year, subset(df, gear_type == 'bottom trawl')))"
   ]
  },
  {
   "cell_type": "code",
   "execution_count": null,
   "id": "4ca961e6",
   "metadata": {},
   "outputs": [],
   "source": [
    "df$predicted = exp(74.211344 - 0.031015*df$year)"
   ]
  },
  {
   "cell_type": "code",
   "execution_count": null,
   "id": "c9e3ca1e",
   "metadata": {},
   "outputs": [],
   "source": [
    "ggplot(subset(df, gear_type == 'bottom trawl'), aes(x=year, y=tonnes)) +\n",
    "  geom_col() + geom_line(aes(y=predicted))"
   ]
  }
 ],
 "metadata": {
  "kernelspec": {
   "display_name": "R",
   "language": "R",
   "name": "ir"
  },
  "language_info": {
   "codemirror_mode": "r",
   "file_extension": ".r",
   "mimetype": "text/x-r-source",
   "name": "R",
   "pygments_lexer": "r",
   "version": "4.1.1"
  }
 },
 "nbformat": 4,
 "nbformat_minor": 5
}
